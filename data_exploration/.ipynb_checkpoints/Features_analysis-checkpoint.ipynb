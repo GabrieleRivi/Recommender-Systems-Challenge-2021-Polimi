{
 "cells": [
  {
   "cell_type": "code",
   "execution_count": 12,
   "id": "30a6df3c",
   "metadata": {},
   "outputs": [],
   "source": [
    "import os\n",
    "import scipy.sparse as sps\n",
    "import numpy as np\n",
    "import seaborn as sns\n",
    "os.chdir('/Users/gabriele/PycharmProjects/RecSys')\n",
    "from Utils.utils import create_URM, create_ICM, combine_matrices, load_data_events"
   ]
  },
  {
   "cell_type": "code",
   "execution_count": 2,
   "id": "b9f6a19d",
   "metadata": {},
   "outputs": [],
   "source": [
    "events = load_data_events()"
   ]
  },
  {
   "cell_type": "code",
   "execution_count": 3,
   "id": "1787e12d",
   "metadata": {},
   "outputs": [
    {
     "data": {
      "text/html": [
       "<div>\n",
       "<style scoped>\n",
       "    .dataframe tbody tr th:only-of-type {\n",
       "        vertical-align: middle;\n",
       "    }\n",
       "\n",
       "    .dataframe tbody tr th {\n",
       "        vertical-align: top;\n",
       "    }\n",
       "\n",
       "    .dataframe thead th {\n",
       "        text-align: right;\n",
       "    }\n",
       "</style>\n",
       "<table border=\"1\" class=\"dataframe\">\n",
       "  <thead>\n",
       "    <tr style=\"text-align: right;\">\n",
       "      <th></th>\n",
       "      <th>items</th>\n",
       "      <th>episode</th>\n",
       "      <th>data_ev</th>\n",
       "    </tr>\n",
       "  </thead>\n",
       "  <tbody>\n",
       "    <tr>\n",
       "      <th>0</th>\n",
       "      <td>0</td>\n",
       "      <td>121781</td>\n",
       "      <td>1.0</td>\n",
       "    </tr>\n",
       "    <tr>\n",
       "      <th>1</th>\n",
       "      <td>1</td>\n",
       "      <td>150102</td>\n",
       "      <td>1.0</td>\n",
       "    </tr>\n",
       "    <tr>\n",
       "      <th>2</th>\n",
       "      <td>1</td>\n",
       "      <td>349614</td>\n",
       "      <td>1.0</td>\n",
       "    </tr>\n",
       "    <tr>\n",
       "      <th>3</th>\n",
       "      <td>2</td>\n",
       "      <td>9174</td>\n",
       "      <td>1.0</td>\n",
       "    </tr>\n",
       "    <tr>\n",
       "      <th>4</th>\n",
       "      <td>2</td>\n",
       "      <td>20833</td>\n",
       "      <td>1.0</td>\n",
       "    </tr>\n",
       "    <tr>\n",
       "      <th>...</th>\n",
       "      <td>...</td>\n",
       "      <td>...</td>\n",
       "      <td>...</td>\n",
       "    </tr>\n",
       "    <tr>\n",
       "      <th>358065</th>\n",
       "      <td>18056</td>\n",
       "      <td>169988</td>\n",
       "      <td>1.0</td>\n",
       "    </tr>\n",
       "    <tr>\n",
       "      <th>358066</th>\n",
       "      <td>18056</td>\n",
       "      <td>198728</td>\n",
       "      <td>1.0</td>\n",
       "    </tr>\n",
       "    <tr>\n",
       "      <th>358067</th>\n",
       "      <td>18057</td>\n",
       "      <td>237262</td>\n",
       "      <td>1.0</td>\n",
       "    </tr>\n",
       "    <tr>\n",
       "      <th>358068</th>\n",
       "      <td>18058</td>\n",
       "      <td>96320</td>\n",
       "      <td>1.0</td>\n",
       "    </tr>\n",
       "    <tr>\n",
       "      <th>358069</th>\n",
       "      <td>18058</td>\n",
       "      <td>176749</td>\n",
       "      <td>1.0</td>\n",
       "    </tr>\n",
       "  </tbody>\n",
       "</table>\n",
       "<p>358070 rows × 3 columns</p>\n",
       "</div>"
      ],
      "text/plain": [
       "        items  episode  data_ev\n",
       "0           0   121781      1.0\n",
       "1           1   150102      1.0\n",
       "2           1   349614      1.0\n",
       "3           2     9174      1.0\n",
       "4           2    20833      1.0\n",
       "...       ...      ...      ...\n",
       "358065  18056   169988      1.0\n",
       "358066  18056   198728      1.0\n",
       "358067  18057   237262      1.0\n",
       "358068  18058    96320      1.0\n",
       "358069  18058   176749      1.0\n",
       "\n",
       "[358070 rows x 3 columns]"
      ]
     },
     "execution_count": 3,
     "metadata": {},
     "output_type": "execute_result"
    }
   ],
   "source": [
    "events"
   ]
  },
  {
   "cell_type": "code",
   "execution_count": 4,
   "id": "2eb97edf",
   "metadata": {},
   "outputs": [],
   "source": [
    "events = sps.coo_matrix((events[\"data_ev\"].values,\n",
    "                                (events[\"items\"].values, events[\"episode\"].values)))"
   ]
  },
  {
   "cell_type": "code",
   "execution_count": 5,
   "id": "de6daf45",
   "metadata": {},
   "outputs": [
    {
     "data": {
      "text/plain": [
       "<18059x358070 sparse matrix of type '<class 'numpy.float64'>'\n",
       "\twith 358070 stored elements in COOrdinate format>"
      ]
     },
     "execution_count": 5,
     "metadata": {},
     "output_type": "execute_result"
    }
   ],
   "source": [
    "events"
   ]
  },
  {
   "cell_type": "code",
   "execution_count": 6,
   "id": "bc5002eb",
   "metadata": {},
   "outputs": [
    {
     "data": {
      "text/plain": [
       "(array([1, 2, 3, ..., 2, 1, 2], dtype=int32), (18059,))"
      ]
     },
     "execution_count": 6,
     "metadata": {},
     "output_type": "execute_result"
    }
   ],
   "source": [
    "num_episodes = np.ediff1d(sps.csr_matrix(events).indptr)\n",
    "num_episodes, num_episodes.shape"
   ]
  },
  {
   "cell_type": "code",
   "execution_count": 7,
   "id": "ad0659d2",
   "metadata": {},
   "outputs": [
    {
     "data": {
      "text/plain": [
       "5778"
      ]
     },
     "execution_count": 7,
     "metadata": {},
     "output_type": "execute_result"
    }
   ],
   "source": [
    "max_episodes = max(num_episodes)\n",
    "max_episodes"
   ]
  },
  {
   "cell_type": "code",
   "execution_count": 8,
   "id": "d70c9920",
   "metadata": {},
   "outputs": [
    {
     "data": {
      "text/plain": [
       "array([1, 2, 3, ..., 2, 1, 2], dtype=int32)"
      ]
     },
     "execution_count": 8,
     "metadata": {},
     "output_type": "execute_result"
    }
   ],
   "source": [
    "num_episodes"
   ]
  },
  {
   "cell_type": "code",
   "execution_count": 9,
   "id": "21959c3c",
   "metadata": {},
   "outputs": [
    {
     "data": {
      "image/png": "[encoded data removed]",
      "text/plain": [
       "<Figure size 432x288 with 1 Axes>"
      ]
     },
     "metadata": {
      "needs_background": "light"
     },
     "output_type": "display_data"
    }
   ],
   "source": [
    "import matplotlib.pyplot as plt\n",
    "plt.plot(num_episodes)\n",
    "plt.ylabel('number of episodes')\n",
    "plt.xlabel('items')\n",
    "plt.show()"
   ]
  },
  {
   "cell_type": "code",
   "execution_count": 10,
   "id": "6bd6a96a",
   "metadata": {},
   "outputs": [],
   "source": [
    "##LET'S TRY TO DIVIDE THE ITEMS INTO SUBGROUPS BASED ON THE NUMBER OF EPISODES THEY HAVE\n",
    "##DEFINING THE INTERVALS\n",
    "#0-3\n",
    "#4-10\n",
    "#11-30\n",
    "#31-50\n",
    "#51-100\n",
    "#101-200\n",
    "#201-500\n",
    "#501-1000\n",
    "#1001-2000\n",
    "#2001+"
   ]
  },
  {
   "cell_type": "code",
   "execution_count": 26,
   "id": "2fb42c32",
   "metadata": {},
   "outputs": [],
   "source": [
    "ICM_feature_extracted = np.zeros((18060,10),dtype=\"float64\")"
   ]
  },
  {
   "cell_type": "code",
   "execution_count": 27,
   "id": "9832adda",
   "metadata": {},
   "outputs": [
    {
     "data": {
      "text/plain": [
       "(18060, 10)"
      ]
     },
     "execution_count": 27,
     "metadata": {},
     "output_type": "execute_result"
    }
   ],
   "source": [
    "ICM_feature_extracted.shape"
   ]
  },
  {
   "cell_type": "code",
   "execution_count": 28,
   "id": "8ba63b21",
   "metadata": {},
   "outputs": [],
   "source": [
    "for i in num_episodes:\n",
    "    if num_episodes[i] <= 3:\n",
    "        ICM_feature_extracted[i][0]=1\n",
    "    elif num_episodes[i] <=10:\n",
    "        ICM_feature_extracted[i][1]=1\n",
    "    elif num_episodes[i] <=30:\n",
    "        ICM_feature_extracted[i][2]=1\n",
    "    elif num_episodes[i] <=50:\n",
    "        ICM_feature_extracted[i][3]=1\n",
    "    elif num_episodes[i] <=100:\n",
    "        ICM_feature_extracted[i][4]=1\n",
    "    elif num_episodes[i] <=200:\n",
    "        ICM_feature_extracted[i][5]=1\n",
    "    elif num_episodes[i] <=500:\n",
    "        ICM_feature_extracted[i][6]=1\n",
    "    elif num_episodes[i] <=1000:\n",
    "        ICM_feature_extracted[i][7]=1\n",
    "    elif num_episodes[i] <=2000:\n",
    "        ICM_feature_extracted[i][8]=1\n",
    "    else:\n",
    "        ICM_feature_extracted[i][9]=1"
   ]
  },
  {
   "cell_type": "code",
   "execution_count": 29,
   "id": "40a9d772",
   "metadata": {},
   "outputs": [
    {
     "data": {
      "text/plain": [
       "array([[1., 0., 0., ..., 0., 0., 0.],\n",
       "       [1., 0., 0., ..., 0., 0., 0.],\n",
       "       [1., 0., 0., ..., 0., 0., 0.],\n",
       "       ...,\n",
       "       [0., 0., 0., ..., 0., 0., 0.],\n",
       "       [0., 0., 0., ..., 0., 0., 0.],\n",
       "       [0., 0., 0., ..., 0., 0., 0.]])"
      ]
     },
     "execution_count": 29,
     "metadata": {},
     "output_type": "execute_result"
    }
   ],
   "source": [
    "ICM_feature_extracted.head"
   ]
  },
  {
   "cell_type": "code",
   "execution_count": 31,
   "id": "ef29da53",
   "metadata": {},
   "outputs": [],
   "source": [
    "ICM_events = sps.coo_matrix(ICM_feature_extracted)"
   ]
  },
  {
   "cell_type": "code",
   "execution_count": 32,
   "id": "46c14ea8",
   "metadata": {},
   "outputs": [
    {
     "data": {
      "text/plain": [
       "<18060x10 sparse matrix of type '<class 'numpy.float64'>'\n",
       "\twith 436 stored elements in COOrdinate format>"
      ]
     },
     "execution_count": 32,
     "metadata": {},
     "output_type": "execute_result"
    }
   ],
   "source": [
    "ICM_events"
   ]
  },
  {
   "cell_type": "code",
   "execution_count": 33,
   "id": "5aca50cd",
   "metadata": {},
   "outputs": [
    {
     "data": {
      "text/plain": [
       "(array([1, 1, 1, ..., 0, 0, 0], dtype=int32), (18060,))"
      ]
     },
     "execution_count": 33,
     "metadata": {},
     "output_type": "execute_result"
    }
   ],
   "source": [
    "num_interactions = np.ediff1d(sps.csr_matrix(ICM_events).indptr)\n",
    "num_interactions, num_interactions.shape"
   ]
  },
  {
   "cell_type": "code",
   "execution_count": 35,
   "id": "e23812d3",
   "metadata": {},
   "outputs": [
    {
     "data": {
      "text/plain": [
       "{0: 17624, 1: 436}"
      ]
     },
     "execution_count": 35,
     "metadata": {},
     "output_type": "execute_result"
    }
   ],
   "source": [
    "unique, counts = np.unique(num_interactions, return_counts=True)\n",
    "dict(zip(unique, counts))"
   ]
  },
  {
   "cell_type": "code",
   "execution_count": null,
   "id": "19233b27",
   "metadata": {},
   "outputs": [],
   "source": []
  }
 ],
 "metadata": {
  "kernelspec": {
   "display_name": "Python 3 (ipykernel)",
   "language": "python",
   "name": "python3"
  },
  "language_info": {
   "codemirror_mode": {
    "name": "ipython",
    "version": 3
   },
   "file_extension": ".py",
   "mimetype": "text/x-python",
   "name": "python",
   "nbconvert_exporter": "python",
   "pygments_lexer": "ipython3",
   "version": "3.8.12"
  }
 },
 "nbformat": 4,
 "nbformat_minor": 5
}
