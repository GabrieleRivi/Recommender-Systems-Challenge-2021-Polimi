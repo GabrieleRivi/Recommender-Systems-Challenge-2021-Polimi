{
 "cells": [
  {
   "cell_type": "code",
   "execution_count": 1,
   "id": "71999151",
   "metadata": {},
   "outputs": [],
   "source": [
    "##THE HYBRID WITH SLIME AND IALS RESULTS ARE BETTER THAN ANY OTHER ALGORITHM TESTED BEFORE\n",
    "import os\n",
    "\n",
    "os.chdir('/Users/gabriele/PycharmProjects/RecSys')\n",
    "from Utils.utils import create_URM, create_ICM, combine_matrices, create_submission, write_submission\n",
    "from src.Evaluation.Evaluator import EvaluatorHoldout\n",
    "from src.Data_manager.split_functions.split_train_validation_random_holdout import split_train_in_two_percentage_global_sample\n",
    "##NON-PERSONALIZED\n",
    "from src.Recommenders.Base.NonPersonalizedRecommender import TopPop\n",
    "\n",
    "#KNN\n",
    "from src.Recommenders.KNN.UserKNNCFRecommender import UserKNNCFRecommender\n",
    "from src.Recommenders.KNN.ItemKNNCFRecommender import ItemKNNCFRecommender\n",
    "from src.Recommenders.KNN.ItemKNNSimilarityHybridRecommender import ItemKNNSimilarityHybridRecommender\n",
    "from src.Recommenders.KNN.ItemKNNCBFRecommender import ItemKNNCBFRecommender\n",
    "from src.Recommenders.KNN.ItemKNN_CFCBF_Hybrid_Recommender import ItemKNN_CFCBF_Hybrid_Recommender\n",
    "\n",
    "#MATRIX-FACTORIZATION\n",
    "from src.Recommenders.SLIM.Cython.SLIM_BPR_Cython import SLIM_BPR_Cython\n",
    "from src.Recommenders.SLIM.SLIMElasticNetRecommender import MultiThreadSLIM_SLIMElasticNetRecommender\n",
    "from src.Recommenders.MatrixFactorization.Cython.MatrixFactorization_Cython import MatrixFactorization_BPR_Cython, MatrixFactorization_FunkSVD_Cython, MatrixFactorization_AsySVD_Cython\n",
    "from src.Recommenders.MatrixFactorization.PureSVDRecommender import PureSVDItemRecommender\n",
    "from src.Recommenders.MatrixFactorization.IALSRecommenderLinear import IALSRecommender\n",
    "from src.Recommenders.MatrixFactorization.NMFRecommender import NMFRecommender\n",
    "\n",
    "#GRAPHIC-BASED\n",
    "from src.Recommenders.GraphBased.P3alphaRecommender import P3alphaRecommender\n",
    "from src.Recommenders.GraphBased.RP3betaRecommender import RP3betaRecommender\n",
    "\n",
    "#HYBRID\n",
    "from src.Hybrids.MergingModelsByScores import MergeThreeModelsByScores, MergeTwoModelsByScores"
   ]
  },
  {
   "cell_type": "code",
   "execution_count": 2,
   "id": "86691170",
   "metadata": {},
   "outputs": [],
   "source": [
    "##CREATION OF MATRICES AND SPLITTING IN TRAIN-TEST-VALIDATION\n",
    "URM = create_URM()\n",
    "ICM = create_ICM()\n",
    "URM_stacked = combine_matrices(ICM=ICM, URM=URM)"
   ]
  },
  {
   "cell_type": "code",
   "execution_count": 3,
   "id": "8435d848",
   "metadata": {},
   "outputs": [
    {
     "name": "stdout",
     "output_type": "stream",
     "text": [
      "Warning: 12 (0.09 %) of 13650 users have no sampled items\n",
      "Warning: 19 (0.14 %) of 13650 users have no sampled items\n",
      "EvaluatorHoldout: Ignoring 13638 ( 0.1%) Users that have less than 1 test interactions\n",
      "EvaluatorHoldout: Ignoring 13631 ( 0.1%) Users that have less than 1 test interactions\n"
     ]
    }
   ],
   "source": [
    "URM_train_validation, URM_test = split_train_in_two_percentage_global_sample(URM, train_percentage=0.85)\n",
    "URM_train, URM_validation = split_train_in_two_percentage_global_sample(URM_train_validation, train_percentage=0.85)\n",
    "stacked_train = combine_matrices(ICM=ICM, URM=URM_train)\n",
    "evaluator_test = EvaluatorHoldout(URM_test, cutoff_list=[10])\n",
    "evaluator_validation = EvaluatorHoldout(URM_validation, cutoff_list=[10])"
   ]
  },
  {
   "cell_type": "code",
   "execution_count": 4,
   "id": "234045a2",
   "metadata": {},
   "outputs": [
    {
     "data": {
      "text/plain": [
       "(array([121, 427, 105, ..., 191, 132, 240], dtype=int32), (13650,))"
      ]
     },
     "execution_count": 4,
     "metadata": {},
     "output_type": "execute_result"
    }
   ],
   "source": [
    "import numpy as np \n",
    "import scipy.sparse as sps\n",
    "\n",
    "profile_length = np.ediff1d(sps.csr_matrix(URM_train).indptr)\n",
    "profile_length, profile_length.shape"
   ]
  },
  {
   "cell_type": "code",
   "execution_count": 5,
   "id": "6b8ad71f",
   "metadata": {},
   "outputs": [
    {
     "data": {
      "text/plain": [
       "682"
      ]
     },
     "execution_count": 5,
     "metadata": {},
     "output_type": "execute_result"
    }
   ],
   "source": [
    "block_size = int(len(profile_length)*0.05)\n",
    "block_size"
   ]
  },
  {
   "cell_type": "code",
   "execution_count": 6,
   "id": "b01cb574",
   "metadata": {},
   "outputs": [
    {
     "data": {
      "text/plain": [
       "array([ 9021,  9328, 12441, ...,  1141,  8526,   317])"
      ]
     },
     "execution_count": 6,
     "metadata": {},
     "output_type": "execute_result"
    }
   ],
   "source": [
    "sorted_users = np.argsort(profile_length)\n",
    "sorted_users"
   ]
  },
  {
   "cell_type": "code",
   "execution_count": 7,
   "id": "1cbf05b7",
   "metadata": {},
   "outputs": [
    {
     "name": "stdout",
     "output_type": "stream",
     "text": [
      "Group 0, #users in group 682, average p.len 29.00, median 30.0, min 4, max 49\n",
      "Group 1, #users in group 682, average p.len 66.13, median 67.0, min 49, max 81\n",
      "Group 2, #users in group 682, average p.len 94.60, median 94.0, min 81, max 107\n",
      "Group 3, #users in group 682, average p.len 118.61, median 118.0, min 107, max 130\n",
      "Group 4, #users in group 682, average p.len 139.67, median 140.0, min 130, max 149\n",
      "Group 5, #users in group 682, average p.len 158.63, median 158.5, min 149, max 168\n",
      "Group 6, #users in group 682, average p.len 176.72, median 176.0, min 168, max 186\n",
      "Group 7, #users in group 682, average p.len 196.37, median 196.0, min 186, max 206\n",
      "Group 8, #users in group 682, average p.len 216.51, median 216.0, min 206, max 226\n",
      "Group 9, #users in group 682, average p.len 236.23, median 236.0, min 227, max 245\n",
      "Group 10, #users in group 682, average p.len 255.18, median 255.0, min 245, max 265\n",
      "Group 11, #users in group 682, average p.len 276.60, median 276.0, min 265, max 288\n",
      "Group 12, #users in group 682, average p.len 298.84, median 299.0, min 288, max 310\n",
      "Group 13, #users in group 682, average p.len 323.02, median 323.0, min 310, max 336\n",
      "Group 14, #users in group 682, average p.len 351.88, median 351.0, min 336, max 370\n",
      "Group 15, #users in group 682, average p.len 388.36, median 388.0, min 370, max 407\n",
      "Group 16, #users in group 682, average p.len 429.93, median 430.0, min 407, max 454\n",
      "Group 17, #users in group 682, average p.len 485.59, median 484.5, min 454, max 521\n",
      "Group 18, #users in group 682, average p.len 567.10, median 565.0, min 521, max 623\n",
      "Group 19, #users in group 682, average p.len 770.86, median 732.0, min 624, max 1228\n"
     ]
    }
   ],
   "source": [
    "for group_id in range(0, 20):\n",
    "    start_pos = group_id * block_size\n",
    "    end_pos = min((group_id+1) * block_size, len(profile_length))\n",
    "    \n",
    "    users_in_group = sorted_users[start_pos:end_pos]\n",
    "    \n",
    "    users_in_group_p_len = profile_length[users_in_group]\n",
    "    \n",
    "    print(\"Group {}, #users in group {}, average p.len {:.2f}, median {}, min {}, max {}\".format(\n",
    "        group_id, \n",
    "        users_in_group.shape[0],\n",
    "        users_in_group_p_len.mean(),\n",
    "        np.median(users_in_group_p_len),\n",
    "        users_in_group_p_len.min(),\n",
    "        users_in_group_p_len.max()))"
   ]
  },
  {
   "cell_type": "code",
   "execution_count": 8,
   "id": "80a65b54",
   "metadata": {},
   "outputs": [
    {
     "name": "stdout",
     "output_type": "stream",
     "text": [
      "RP3betaRecommender: URM Detected 1 ( 0.0%) items with no interactions.\n"
     ]
    }
   ],
   "source": [
    "##CREATION OF DIFFERENT RECOMMENDERS TUNED\n",
    "\n",
    "### RP3Beta Recommender\n",
    "RP3 = RP3betaRecommender(URM_train=URM_train)\n",
    "RP3.fit(topK=181, alpha=0.5709402717259106, beta=0.3566066452521787, implicit=True, normalize_similarity=True)"
   ]
  },
  {
   "cell_type": "code",
   "execution_count": null,
   "id": "092973fe",
   "metadata": {},
   "outputs": [
    {
     "name": "stderr",
     "output_type": "stream",
     "text": [
      " 12%|████▌                                 | 2184/18059 [00:57<04:38, 57.04it/s]"
     ]
    }
   ],
   "source": [
    "##SLIMELASTICNET Recommender\n",
    "SLIME = MultiThreadSLIM_SLIMElasticNetRecommender(URM_train=stacked_train)\n",
    "SLIME.fit(topK=420, l1_ratio=0.06061216785568925, alpha=0.00554982938879437, workers = 10)"
   ]
  },
  {
   "cell_type": "code",
   "execution_count": null,
   "id": "fea1d296",
   "metadata": {},
   "outputs": [],
   "source": [
    "## IALS Recommender\n",
    "IALS_recommender = IALSRecommender(URM_train=stacked_train)\n",
    "IALS_recommender.fit(epochs=10, num_factors=42, alpha=0.7617528864750021, reg=8.926401306541349)"
   ]
  },
  {
   "cell_type": "code",
   "execution_count": null,
   "id": "94dc8f9f",
   "metadata": {},
   "outputs": [],
   "source": [
    "##RP3HYBRIDSLIME_IALS\n",
    "similarity_slime = SLIME.W_sparse\n",
    "similarity_rp3 = RP3.W_sparse\n",
    "\n",
    "similarity_hybrid = ItemKNNSimilarityHybridRecommender(URM_train = stacked_train,\n",
    "                                                      Similarity_1 = similarity_rp3,\n",
    "                                                      Similarity_2 = similarity_slime)\n",
    "similarity_hybrid.fit(topK=494, alpha=0.1597863887003789 )\n",
    "recommenders =[similarity_hybrid,IALS_recommender]\n",
    "new_hybrid = MergeTwoModelsByScores(stacked_train, recommenders)\n",
    "new_hybrid.fit(alpha=0.4555360263375717,beta=0.13654581079541908)"
   ]
  },
  {
   "cell_type": "code",
   "execution_count": null,
   "id": "c682035f",
   "metadata": {},
   "outputs": [],
   "source": [
    "IALS_RP3 = MergeTwoModelsByScores(URM_train =stacked_train, recommenders= [IALS_recommender, RP32])\n",
    "IALS_RP3.fit(alpha=0.5165217586951893,beta=0.8835185422119769)"
   ]
  },
  {
   "cell_type": "code",
   "execution_count": null,
   "id": "ae8ce1f7",
   "metadata": {},
   "outputs": [],
   "source": [
    "IALS_RP3_SLIME = MergeTwoModelsByScores(URM_train =stacked_train, recommenders= [IALS_RP3, SLIME2])\n",
    "IALS_RP3_SLIME.fit(alpha=0.23588582912644468,beta=1.0)"
   ]
  },
  {
   "cell_type": "code",
   "execution_count": null,
   "id": "786a0ac2",
   "metadata": {},
   "outputs": [],
   "source": [
    "##PURE_SVD\n",
    "PURE_SVD = PureSVDItemRecommender(stacked_train)\n",
    "PURE_SVD.fit(num_factors=23,topK=500)"
   ]
  },
  {
   "cell_type": "code",
   "execution_count": null,
   "id": "cae6ee03",
   "metadata": {},
   "outputs": [],
   "source": [
    "SLIME_PURESVD2 = MergeTwoModelsByScores(URM_train =stacked_train, recommenders= [SLIME,PURE_SVD])\n",
    "SLIME_PURESVD2.fit(alpha=0.790241473254688,beta=0.043735415548593955)"
   ]
  },
  {
   "cell_type": "code",
   "execution_count": null,
   "id": "574fe4ae",
   "metadata": {},
   "outputs": [],
   "source": [
    "##P3ALPHA Recommender\n",
    "P3Alpha_recommender = P3alphaRecommender(URM_train=stacked_train)\n",
    "P3Alpha_recommender.fit(topK=46,alpha=0.7723235971713814, implicit=True, normalize_similarity=False)"
   ]
  },
  {
   "cell_type": "code",
   "execution_count": null,
   "id": "75dd45dc",
   "metadata": {},
   "outputs": [],
   "source": [
    "##RP3_P3A\n",
    "similarity_rp3= RP3.W_sparse\n",
    "similarity_p3a=P3Alpha_recommender.W_sparse\n",
    "RP3_P3A = ItemKNNSimilarityHybridRecommender(URM_train = stacked_train, Similarity_1 = similarity_rp3, Similarity_2=similarity_p3a )\n",
    "RP3_P3A.fit(alpha=0.9849405466567409)"
   ]
  },
  {
   "cell_type": "code",
   "execution_count": null,
   "id": "97921678",
   "metadata": {},
   "outputs": [],
   "source": [
    "SLIME_PURESVD_RP3_P3A = MergeTwoModelsByScores(URM_train =stacked_train, recommenders= [SLIME_PURESVD,RP3_P3A])\n",
    "SLIME_PURESVD_RP3_P3A.fit(alpha=0.6056872631076499,beta=0.12958301894152272)"
   ]
  },
  {
   "cell_type": "code",
   "execution_count": null,
   "id": "eaa2a5cd",
   "metadata": {},
   "outputs": [],
   "source": [
    "MAP_recommender_per_group = {}\n",
    "\n",
    "recommenders= {\"HYBRID_new\": new_hybrid,\n",
    "               \"SLIME_PURESVD_RP3_P3A\":SLIME_PURESVD_RP3_P3A,\n",
    "               \"SLIME_PURESVD2\":SLIME_PURESVD2,\n",
    "               \"SLIME_PURESVD_RP32\": SLIME_PURESVD_RP32,\n",
    "               \"IALS_SLIME_RP32\":IALS_RP3_SLIME\n",
    "}\n",
    "    \n",
    "recommender_object_dict = {}\n",
    "\n",
    "for label, recommender in recommenders.items():\n",
    "    recommender_object = recommender\n",
    "    recommender_object_dict[label] = recommender_object\n",
    "\n"
   ]
  },
  {
   "cell_type": "code",
   "execution_count": null,
   "id": "2cf16f2d",
   "metadata": {},
   "outputs": [],
   "source": [
    "cutoff = 10\n",
    "\n",
    "for group_id in range(0, 20):\n",
    "    \n",
    "    start_pos = group_id*block_size\n",
    "    end_pos = min((group_id+1)*block_size, len(profile_length))\n",
    "    \n",
    "    users_in_group = sorted_users[start_pos:end_pos]\n",
    "    \n",
    "    users_in_group_p_len = profile_length[users_in_group]\n",
    "    \n",
    "    print(\"Group {}, #users in group {}, average p.len {:.2f}, median {}, min {}, max {}\".format(\n",
    "        group_id, \n",
    "        users_in_group.shape[0],\n",
    "        users_in_group_p_len.mean(),\n",
    "        np.median(users_in_group_p_len),\n",
    "        users_in_group_p_len.min(),\n",
    "        users_in_group_p_len.max()))\n",
    "    \n",
    "    \n",
    "    users_not_in_group_flag = np.isin(sorted_users, users_in_group, invert=True)\n",
    "    users_not_in_group = sorted_users[users_not_in_group_flag]\n",
    "    \n",
    "    evaluator_test = EvaluatorHoldout(URM_test, cutoff_list=[cutoff], ignore_users=users_not_in_group)\n",
    "    \n",
    "    for label, recommender in recommender_object_dict.items():\n",
    "        result_df, _ = evaluator_test.evaluateRecommender(recommender)\n",
    "        if label in MAP_recommender_per_group:\n",
    "            MAP_recommender_per_group[label].append(result_df.loc[cutoff][\"MAP\"])\n",
    "        else:\n",
    "            MAP_recommender_per_group[label] = [result_df.loc[cutoff][\"MAP\"]]"
   ]
  },
  {
   "cell_type": "code",
   "execution_count": null,
   "id": "f096b67b",
   "metadata": {},
   "outputs": [],
   "source": [
    "import matplotlib.pyplot as plt\n",
    "%matplotlib inline  \n",
    "\n",
    "_ = plt.figure(figsize=(16, 9))\n",
    "for label, recommender in recommender_object_dict.items():\n",
    "    results = MAP_recommender_per_group[label]\n",
    "    plt.scatter(x=np.arange(0,len(results)), y=results, label=label)\n",
    "plt.ylabel('MAP')\n",
    "plt.xlabel('User Group')\n",
    "plt.legend()\n",
    "plt.show()"
   ]
  },
  {
   "cell_type": "code",
   "execution_count": null,
   "id": "80b323e4",
   "metadata": {},
   "outputs": [],
   "source": []
  }
 ],
 "metadata": {
  "kernelspec": {
   "display_name": "Python 3 (ipykernel)",
   "language": "python",
   "name": "python3"
  },
  "language_info": {
   "codemirror_mode": {
    "name": "ipython",
    "version": 3
   },
   "file_extension": ".py",
   "mimetype": "text/x-python",
   "name": "python",
   "nbconvert_exporter": "python",
   "pygments_lexer": "ipython3",
   "version": "3.8.12"
  }
 },
 "nbformat": 4,
 "nbformat_minor": 5
}
