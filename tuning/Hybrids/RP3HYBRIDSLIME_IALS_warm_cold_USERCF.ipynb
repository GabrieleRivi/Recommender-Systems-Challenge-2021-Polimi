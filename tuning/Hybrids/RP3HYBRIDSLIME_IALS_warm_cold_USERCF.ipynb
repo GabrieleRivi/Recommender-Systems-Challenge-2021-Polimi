{
 "cells": [
  {
   "cell_type": "code",
   "execution_count": 1,
   "id": "237d0d74",
   "metadata": {},
   "outputs": [],
   "source": [
    "import os\n",
    "\n",
    "os.chdir('/Users/gabriele/PycharmProjects/RecSys')\n",
    "from Utils.utils import create_URM, create_ICM, combine_matrices, create_submission, write_submission\n",
    "from src.Evaluation.Evaluator import EvaluatorHoldout\n",
    "from src.Data_manager.split_functions.split_train_validation_random_holdout import split_train_in_two_percentage_global_sample\n",
    "##NON-PERSONALIZED\n",
    "from src.Recommenders.Base.NonPersonalizedRecommender import TopPop\n",
    "\n",
    "#KNN\n",
    "from src.Recommenders.KNN.UserKNNCFRecommender import UserKNNCFRecommender\n",
    "from src.Recommenders.KNN.ItemKNNCFRecommender import ItemKNNCFRecommender\n",
    "from src.Recommenders.KNN.ItemKNNCBFRecommender import ItemKNNCBFRecommender\n",
    "from src.Recommenders.KNN.ItemKNN_CFCBF_Hybrid_Recommender import ItemKNN_CFCBF_Hybrid_Recommender\n",
    "from src.Recommenders.KNN.ItemKNNSimilarityHybridRecommender import ItemKNNSimilarityHybridRecommender\n",
    "\n",
    "#MATRIX-FACTORIZATION\n",
    "from src.Recommenders.SLIM.Cython.SLIM_BPR_Cython import SLIM_BPR_Cython\n",
    "from src.Recommenders.SLIM.SLIMElasticNetRecommender import MultiThreadSLIM_SLIMElasticNetRecommender\n",
    "from src.Recommenders.MatrixFactorization.Cython.MatrixFactorization_Cython import MatrixFactorization_BPR_Cython, MatrixFactorization_FunkSVD_Cython, MatrixFactorization_AsySVD_Cython\n",
    "from src.Recommenders.MatrixFactorization.PureSVDRecommender import PureSVDRecommender\n",
    "from src.Recommenders.MatrixFactorization.IALSRecommenderLinear import IALSRecommender\n",
    "from src.Recommenders.MatrixFactorization.NMFRecommender import NMFRecommender\n",
    "\n",
    "#GRAPHIC-BASED\n",
    "from src.Recommenders.GraphBased.P3alphaRecommender import P3alphaRecommender\n",
    "from src.Recommenders.GraphBased.RP3betaRecommender import RP3betaRecommender\n",
    "\n",
    "#HYBRID\n",
    "from src.Hybrids.MergingModelsByScores import MergeTwoModelsByScores, MergeThreeModelsByScores"
   ]
  },
  {
   "cell_type": "code",
   "execution_count": 2,
   "id": "d16d166f",
   "metadata": {},
   "outputs": [],
   "source": [
    "##CREATION OF MATRICES AND SPLITTING IN TRAIN-TEST-VALIDATION\n",
    "URM = create_URM()\n",
    "ICM = create_ICM()\n",
    "URM_stacked = combine_matrices(ICM=ICM, URM=URM)"
   ]
  },
  {
   "cell_type": "code",
   "execution_count": 3,
   "id": "ae92a616",
   "metadata": {},
   "outputs": [
    {
     "name": "stdout",
     "output_type": "stream",
     "text": [
      "Warning: 62 (0.44 %) of 13984 users have no sampled items\n",
      "Warning: 79 (0.56 %) of 13984 users have no sampled items\n",
      "EvaluatorHoldout: Ignoring 13922 ( 0.4%) Users that have less than 1 test interactions\n",
      "EvaluatorHoldout: Ignoring 13905 ( 0.6%) Users that have less than 1 test interactions\n"
     ]
    }
   ],
   "source": [
    "URM_train_validation, URM_test = split_train_in_two_percentage_global_sample(URM_stacked, train_percentage=0.85)\n",
    "URM_train, URM_validation = split_train_in_two_percentage_global_sample(URM_train_validation, train_percentage=0.85)\n",
    "evaluator_test = EvaluatorHoldout(URM_test, cutoff_list=[10])\n",
    "evaluator_validation = EvaluatorHoldout(URM_validation, cutoff_list=[10])"
   ]
  },
  {
   "cell_type": "code",
   "execution_count": 4,
   "id": "069fbcd8",
   "metadata": {},
   "outputs": [],
   "source": [
    "stacked_train = combine_matrices(ICM=ICM, URM= URM_train)"
   ]
  },
  {
   "cell_type": "code",
   "execution_count": 5,
   "id": "6aef3f0d",
   "metadata": {},
   "outputs": [],
   "source": [
    "### RP3Beta Recommender\n",
    "RP3Beta_recommender = RP3betaRecommender(URM_train=URM_train)\n",
    "RP3Beta_recommender.fit(topK=181, alpha=0.5709402717259106, beta=0.3566066452521787, implicit=True, normalize_similarity=True)"
   ]
  },
  {
   "cell_type": "code",
   "execution_count": 6,
   "id": "2b811b15",
   "metadata": {},
   "outputs": [
    {
     "name": "stderr",
     "output_type": "stream",
     "text": [
      "100%|████████████████████████████████████▉| 18032/18059 [11:57<00:00, 54.65it/s]"
     ]
    }
   ],
   "source": [
    "##SLIMELASTICNET Recommender\n",
    "SLIME_recommender = MultiThreadSLIM_SLIMElasticNetRecommender(URM_train=URM_stacked)\n",
    "SLIME_recommender.fit(topK=420, l1_ratio=0.06061216785568925, alpha=0.00554982938879437, workers = 10)"
   ]
  },
  {
   "cell_type": "code",
   "execution_count": 7,
   "id": "8d3999a7",
   "metadata": {},
   "outputs": [],
   "source": [
    "similarity_slime = SLIME_recommender.W_sparse\n",
    "similarity_rp3 = RP3Beta_recommender.W_sparse"
   ]
  },
  {
   "cell_type": "code",
   "execution_count": 8,
   "id": "cde4b6ce",
   "metadata": {},
   "outputs": [],
   "source": [
    "\n",
    "similarity_hybrid = ItemKNNSimilarityHybridRecommender(URM_train = URM_stacked,\n",
    "                                                      Similarity_1 = similarity_rp3,\n",
    "                                                      Similarity_2 = similarity_slime)\n",
    "similarity_hybrid.fit(topK=494, alpha=0.1597863887003789 )"
   ]
  },
  {
   "cell_type": "code",
   "execution_count": 9,
   "id": "8c8c4586",
   "metadata": {},
   "outputs": [
    {
     "name": "stdout",
     "output_type": "stream",
     "text": [
      "IALSRecommenderLinear: Epoch 1 of 10. Elapsed time 9.51 sec\n"
     ]
    },
    {
     "name": "stderr",
     "output_type": "stream",
     "text": [
      "\r",
      "100%|████████████████████████████████████▉| 18056/18059 [12:10<00:00, 54.65it/s]"
     ]
    },
    {
     "name": "stdout",
     "output_type": "stream",
     "text": [
      "IALSRecommenderLinear: Epoch 2 of 10. Elapsed time 16.87 sec\n",
      "IALSRecommenderLinear: Epoch 3 of 10. Elapsed time 24.50 sec\n",
      "IALSRecommenderLinear: Epoch 4 of 10. Elapsed time 31.79 sec\n",
      "IALSRecommenderLinear: Epoch 5 of 10. Elapsed time 39.91 sec\n",
      "IALSRecommenderLinear: Epoch 6 of 10. Elapsed time 47.30 sec\n",
      "IALSRecommenderLinear: Epoch 7 of 10. Elapsed time 54.52 sec\n",
      "IALSRecommenderLinear: Epoch 8 of 10. Elapsed time 1.04 min\n",
      "IALSRecommenderLinear: Epoch 9 of 10. Elapsed time 1.23 min\n",
      "IALSRecommenderLinear: Epoch 10 of 10. Elapsed time 1.41 min\n",
      "IALSRecommenderLinear: Terminating at epoch 10. Elapsed time 1.41 min\n"
     ]
    }
   ],
   "source": [
    "## IALS Recommender\n",
    "IALS_recommender = IALSRecommender(URM_train=URM_stacked)\n",
    "IALS_recommender.fit(epochs=10, num_factors=42, alpha=0.7617528864750021, reg=8.926401306541349)"
   ]
  },
  {
   "cell_type": "code",
   "execution_count": 19,
   "id": "72e81779",
   "metadata": {},
   "outputs": [],
   "source": [
    "recommenders = [similarity_hybrid, IALS_recommender]\n",
    "hybrid = MergeTwoModelsByScores(URM_stacked, recommenders)\n",
    "hybrid.fit(alpha=0.4555360263375717,beta=0.13654581079541908)"
   ]
  },
  {
   "cell_type": "code",
   "execution_count": 20,
   "id": "d07ecec8",
   "metadata": {},
   "outputs": [
    {
     "data": {
      "text/plain": [
       "(array([168, 609, 140, ..., 260, 182, 329], dtype=int32), (13650,))"
      ]
     },
     "execution_count": 20,
     "metadata": {},
     "output_type": "execute_result"
    }
   ],
   "source": [
    "import numpy as np \n",
    "import scipy.sparse as sps\n",
    "\n",
    "profile_length = np.ediff1d(sps.csr_matrix(URM).indptr)\n",
    "profile_length, profile_length.shape"
   ]
  },
  {
   "cell_type": "code",
   "execution_count": 21,
   "id": "1417c55b",
   "metadata": {},
   "outputs": [
    {
     "data": {
      "text/plain": [
       "477"
      ]
     },
     "execution_count": 21,
     "metadata": {},
     "output_type": "execute_result"
    }
   ],
   "source": [
    "block_size = int(len(profile_length)*0.035)\n",
    "block_size"
   ]
  },
  {
   "cell_type": "code",
   "execution_count": 22,
   "id": "6878dd37",
   "metadata": {},
   "outputs": [
    {
     "data": {
      "text/plain": [
       "array([1876, 9021, 5660, ..., 1141, 8526,  317])"
      ]
     },
     "execution_count": 22,
     "metadata": {},
     "output_type": "execute_result"
    }
   ],
   "source": [
    "sorted_users = np.argsort(profile_length)\n",
    "sorted_users"
   ]
  },
  {
   "cell_type": "code",
   "execution_count": 23,
   "id": "e2ca5fda",
   "metadata": {},
   "outputs": [],
   "source": [
    "cold_start_pos = 0\n",
    "cold_end_pos = block_size\n",
    "cold_users_group = sorted_users[cold_start_pos:cold_end_pos]"
   ]
  },
  {
   "cell_type": "code",
   "execution_count": 24,
   "id": "30aeb1bb",
   "metadata": {},
   "outputs": [],
   "source": [
    "warm_users_group = sorted_users[cold_end_pos:]"
   ]
  },
  {
   "cell_type": "code",
   "execution_count": 25,
   "id": "1025aea6",
   "metadata": {},
   "outputs": [
    {
     "data": {
      "text/plain": [
       "477"
      ]
     },
     "execution_count": 25,
     "metadata": {},
     "output_type": "execute_result"
    }
   ],
   "source": [
    "len(cold_users_group)"
   ]
  },
  {
   "cell_type": "code",
   "execution_count": 26,
   "id": "024e0e85",
   "metadata": {},
   "outputs": [
    {
     "data": {
      "text/plain": [
       "13173"
      ]
     },
     "execution_count": 26,
     "metadata": {},
     "output_type": "execute_result"
    }
   ],
   "source": [
    "len(warm_users_group)"
   ]
  },
  {
   "cell_type": "code",
   "execution_count": 27,
   "id": "5891dad0",
   "metadata": {},
   "outputs": [
    {
     "name": "stdout",
     "output_type": "stream",
     "text": [
      "Unable to load Cython Compute_Similarity, reverting to Python\n",
      "Similarity column 13984 (100.0%), 884.96 column/sec. Elapsed time 15.80 sec\n"
     ]
    }
   ],
   "source": [
    "UserKNNCF_recommender = UserKNNCFRecommender(URM_train = URM_stacked)\n",
    "UserKNNCF_recommender.fit(topK= 450, shrink= 5.0, similarity= 'tanimoto')"
   ]
  },
  {
   "cell_type": "code",
   "execution_count": 28,
   "id": "e87dcef5",
   "metadata": {},
   "outputs": [],
   "source": [
    "submission_cold =[]\n",
    "for user in cold_users_group:\n",
    "    submission_cold.append((user,UserKNNCF_recommender.recommend(user,10)))"
   ]
  },
  {
   "cell_type": "code",
   "execution_count": 29,
   "id": "435a000d",
   "metadata": {},
   "outputs": [
    {
     "name": "stderr",
     "output_type": "stream",
     "text": [
      "100%|████████████████████████████████████▉| 18056/18059 [16:09<00:00, 18.61it/s]\n"
     ]
    }
   ],
   "source": [
    "submission_warm =[]\n",
    "for user in warm_users_group:\n",
    "    submission_warm.append((user,hybrid.recommend(user,10)))"
   ]
  },
  {
   "cell_type": "code",
   "execution_count": 30,
   "id": "5c1d13f8",
   "metadata": {},
   "outputs": [
    {
     "data": {
      "text/plain": [
       "477"
      ]
     },
     "execution_count": 30,
     "metadata": {},
     "output_type": "execute_result"
    }
   ],
   "source": [
    "len(submission_cold)"
   ]
  },
  {
   "cell_type": "code",
   "execution_count": 31,
   "id": "477f08b5",
   "metadata": {},
   "outputs": [
    {
     "data": {
      "text/plain": [
       "13173"
      ]
     },
     "execution_count": 31,
     "metadata": {},
     "output_type": "execute_result"
    }
   ],
   "source": [
    "len(submission_warm)"
   ]
  },
  {
   "cell_type": "code",
   "execution_count": 32,
   "id": "688e6107",
   "metadata": {},
   "outputs": [],
   "source": [
    "submission = submission_cold + submission_warm"
   ]
  },
  {
   "cell_type": "code",
   "execution_count": 33,
   "id": "01213177",
   "metadata": {},
   "outputs": [],
   "source": [
    "submission.sort()"
   ]
  },
  {
   "cell_type": "code",
   "execution_count": 34,
   "id": "af2a7a9a",
   "metadata": {},
   "outputs": [],
   "source": [
    "write_submission(submission, name=\"RP3hSLIME_IALS_warm_USERCF_cold\")"
   ]
  },
  {
   "cell_type": "code",
   "execution_count": null,
   "id": "62e3a1bd",
   "metadata": {},
   "outputs": [],
   "source": []
  }
 ],
 "metadata": {
  "kernelspec": {
   "display_name": "Python 3 (ipykernel)",
   "language": "python",
   "name": "python3"
  },
  "language_info": {
   "codemirror_mode": {
    "name": "ipython",
    "version": 3
   },
   "file_extension": ".py",
   "mimetype": "text/x-python",
   "name": "python",
   "nbconvert_exporter": "python",
   "pygments_lexer": "ipython3",
   "version": "3.8.12"
  }
 },
 "nbformat": 4,
 "nbformat_minor": 5
}
