{
 "cells": [
  {
   "cell_type": "code",
   "execution_count": 1,
   "id": "7a013ecd",
   "metadata": {},
   "outputs": [],
   "source": [
    "##THE HYBRID WITH SLIME AND IALS RESULTS ARE BETTER THAN ANY OTHER ALGORITHM TESTED BEFORE\n",
    "import os\n",
    "\n",
    "os.chdir('/Users/gabriele/PycharmProjects/RecSys')\n",
    "from Utils.utils import create_URM, create_ICM, combine_matrices, create_submission, write_submission\n",
    "from src.Evaluation.Evaluator import EvaluatorHoldout\n",
    "from src.Data_manager.split_functions.split_train_validation_random_holdout import split_train_in_two_percentage_global_sample\n",
    "##NON-PERSONALIZED\n",
    "from src.Recommenders.Base.NonPersonalizedRecommender import TopPop\n",
    "\n",
    "#KNN\n",
    "from src.Recommenders.KNN.UserKNNCFRecommender import UserKNNCFRecommender\n",
    "from src.Recommenders.KNN.ItemKNNCFRecommender import ItemKNNCFRecommender\n",
    "from src.Recommenders.KNN.ItemKNNSimilarityHybridRecommender import ItemKNNSimilarityHybridRecommender\n",
    "from src.Recommenders.KNN.ItemKNNCBFRecommender import ItemKNNCBFRecommender\n",
    "from src.Recommenders.KNN.ItemKNN_CFCBF_Hybrid_Recommender import ItemKNN_CFCBF_Hybrid_Recommender\n",
    "\n",
    "#MATRIX-FACTORIZATION\n",
    "from src.Recommenders.SLIM.Cython.SLIM_BPR_Cython import SLIM_BPR_Cython\n",
    "from src.Recommenders.SLIM.SLIMElasticNetRecommender import MultiThreadSLIM_SLIMElasticNetRecommender\n",
    "from src.Recommenders.MatrixFactorization.Cython.MatrixFactorization_Cython import MatrixFactorization_BPR_Cython, MatrixFactorization_FunkSVD_Cython, MatrixFactorization_AsySVD_Cython\n",
    "from src.Recommenders.MatrixFactorization.PureSVDRecommender import PureSVDItemRecommender\n",
    "from src.Recommenders.MatrixFactorization.IALSRecommenderLinear import IALSRecommender\n",
    "from src.Recommenders.MatrixFactorization.NMFRecommender import NMFRecommender\n",
    "\n",
    "#GRAPHIC-BASED\n",
    "from src.Recommenders.GraphBased.P3alphaRecommender import P3alphaRecommender\n",
    "from src.Recommenders.GraphBased.RP3betaRecommender import RP3betaRecommender\n",
    "\n",
    "#HYBRID\n",
    "from src.Hybrids.MergingModelsByScores import MergeThreeModelsByScores, MergeTwoModelsByScores"
   ]
  },
  {
   "cell_type": "code",
   "execution_count": 2,
   "id": "66e781e3",
   "metadata": {},
   "outputs": [],
   "source": [
    "##CREATION OF MATRICES AND SPLITTING IN TRAIN-TEST-VALIDATION\n",
    "URM = create_URM()\n",
    "ICM = create_ICM()\n",
    "URM_stacked = combine_matrices(ICM=ICM, URM=URM)"
   ]
  },
  {
   "cell_type": "code",
   "execution_count": 4,
   "id": "61170f9e",
   "metadata": {},
   "outputs": [],
   "source": [
    "##CREATION OF DIFFERENT RECOMMENDERS TUNED\n",
    "\n",
    "### RP3Beta Recommender\n",
    "RP3Beta_recommender = RP3betaRecommender(URM_train=URM_stacked)\n",
    "RP3Beta_recommender.fit(topK=181, alpha=0.5709402717259106, beta=0.3566066452521787, implicit=True, normalize_similarity=True)"
   ]
  },
  {
   "cell_type": "code",
   "execution_count": 5,
   "id": "5494b48a",
   "metadata": {},
   "outputs": [
    {
     "name": "stderr",
     "output_type": "stream",
     "text": [
      "100%|████████████████████████████████████▉| 18032/18059 [14:13<00:00, 35.70it/s]"
     ]
    }
   ],
   "source": [
    "##SLIMELASTICNET Recommender\n",
    "SLIME_recommender = MultiThreadSLIM_SLIMElasticNetRecommender(URM_train=URM_stacked)\n",
    "SLIME_recommender.fit(topK=420, l1_ratio=0.06061216785568925, alpha=0.00554982938879437, workers = 10)"
   ]
  },
  {
   "cell_type": "code",
   "execution_count": 14,
   "id": "446a1089",
   "metadata": {},
   "outputs": [
    {
     "name": "stdout",
     "output_type": "stream",
     "text": [
      "IALSRecommenderLinear: Epoch 1 of 43. Elapsed time 10.27 sec\n",
      "IALSRecommenderLinear: Epoch 2 of 43. Elapsed time 19.96 sec\n",
      "IALSRecommenderLinear: Epoch 3 of 43. Elapsed time 28.92 sec\n",
      "IALSRecommenderLinear: Epoch 4 of 43. Elapsed time 38.59 sec\n",
      "IALSRecommenderLinear: Epoch 5 of 43. Elapsed time 48.43 sec\n",
      "IALSRecommenderLinear: Epoch 6 of 43. Elapsed time 1.01 min\n",
      "IALSRecommenderLinear: Epoch 7 of 43. Elapsed time 1.21 min\n",
      "IALSRecommenderLinear: Epoch 8 of 43. Elapsed time 1.41 min\n",
      "IALSRecommenderLinear: Epoch 9 of 43. Elapsed time 1.61 min\n",
      "IALSRecommenderLinear: Epoch 10 of 43. Elapsed time 1.82 min\n",
      "IALSRecommenderLinear: Epoch 11 of 43. Elapsed time 2.02 min\n",
      "IALSRecommenderLinear: Epoch 12 of 43. Elapsed time 2.24 min\n",
      "IALSRecommenderLinear: Epoch 13 of 43. Elapsed time 2.44 min\n",
      "IALSRecommenderLinear: Epoch 14 of 43. Elapsed time 2.65 min\n",
      "IALSRecommenderLinear: Epoch 15 of 43. Elapsed time 2.90 min\n",
      "IALSRecommenderLinear: Epoch 16 of 43. Elapsed time 3.11 min\n",
      "IALSRecommenderLinear: Epoch 17 of 43. Elapsed time 3.37 min\n",
      "IALSRecommenderLinear: Epoch 18 of 43. Elapsed time 3.64 min\n",
      "IALSRecommenderLinear: Epoch 19 of 43. Elapsed time 3.88 min\n",
      "IALSRecommenderLinear: Epoch 20 of 43. Elapsed time 4.10 min\n",
      "IALSRecommenderLinear: Epoch 21 of 43. Elapsed time 4.37 min\n",
      "IALSRecommenderLinear: Epoch 22 of 43. Elapsed time 4.59 min\n",
      "IALSRecommenderLinear: Epoch 23 of 43. Elapsed time 4.84 min\n",
      "IALSRecommenderLinear: Epoch 24 of 43. Elapsed time 5.05 min\n",
      "IALSRecommenderLinear: Epoch 25 of 43. Elapsed time 5.26 min\n",
      "IALSRecommenderLinear: Epoch 26 of 43. Elapsed time 5.46 min\n",
      "IALSRecommenderLinear: Epoch 27 of 43. Elapsed time 5.65 min\n",
      "IALSRecommenderLinear: Epoch 28 of 43. Elapsed time 5.88 min\n",
      "IALSRecommenderLinear: Epoch 29 of 43. Elapsed time 6.09 min\n",
      "IALSRecommenderLinear: Epoch 30 of 43. Elapsed time 6.29 min\n",
      "IALSRecommenderLinear: Epoch 31 of 43. Elapsed time 6.50 min\n",
      "IALSRecommenderLinear: Epoch 32 of 43. Elapsed time 6.75 min\n",
      "IALSRecommenderLinear: Epoch 33 of 43. Elapsed time 7.02 min\n",
      "IALSRecommenderLinear: Epoch 34 of 43. Elapsed time 7.29 min\n",
      "IALSRecommenderLinear: Epoch 35 of 43. Elapsed time 7.49 min\n",
      "IALSRecommenderLinear: Epoch 36 of 43. Elapsed time 7.70 min\n",
      "IALSRecommenderLinear: Epoch 37 of 43. Elapsed time 7.90 min\n",
      "IALSRecommenderLinear: Epoch 38 of 43. Elapsed time 8.10 min\n",
      "IALSRecommenderLinear: Epoch 39 of 43. Elapsed time 8.31 min\n",
      "IALSRecommenderLinear: Epoch 40 of 43. Elapsed time 8.55 min\n",
      "IALSRecommenderLinear: Epoch 41 of 43. Elapsed time 8.75 min\n",
      "IALSRecommenderLinear: Epoch 42 of 43. Elapsed time 8.96 min\n",
      "IALSRecommenderLinear: Epoch 43 of 43. Elapsed time 9.17 min\n",
      "IALSRecommenderLinear: Terminating at epoch 43. Elapsed time 9.17 min\n"
     ]
    }
   ],
   "source": [
    "## IALS Recommender\n",
    "IALS_recommender = IALSRecommender(URM_train=URM_stacked)\n",
    "IALS_recommender.fit(epochs=int(43.58540579197548), num_factors=int(50.69325524471134), alpha=0.7390441426189945, reg=4.874312446539656)"
   ]
  },
  {
   "cell_type": "code",
   "execution_count": 8,
   "id": "9888d66c",
   "metadata": {},
   "outputs": [
    {
     "name": "stdout",
     "output_type": "stream",
     "text": [
      "Unable to load Cython Compute_Similarity, reverting to Python\n",
      "Similarity column 13984 (100.0%), 743.20 column/sec. Elapsed time 18.82 sec\n"
     ]
    }
   ],
   "source": [
    "##UserKNNCF\n",
    "UserKNNCF_recommender = UserKNNCFRecommender(URM_train = URM_stacked)\n",
    "UserKNNCF_recommender.fit(topK=450, shrink=5.0, similarity=\"tanimoto\")"
   ]
  },
  {
   "cell_type": "code",
   "execution_count": 9,
   "id": "48f1da9d",
   "metadata": {},
   "outputs": [
    {
     "name": "stdout",
     "output_type": "stream",
     "text": [
      "PureSVDItemRecommender: Computing SVD decomposition...\n",
      "PureSVDItemRecommender: Computing SVD decomposition... Done!\n"
     ]
    }
   ],
   "source": [
    "##PURE_SVD\n",
    "PURE_SVD = PureSVDItemRecommender(URM_stacked)\n",
    "PURE_SVD.fit(num_factors=23,topK=561)"
   ]
  },
  {
   "cell_type": "code",
   "execution_count": 19,
   "id": "df60d2b8",
   "metadata": {},
   "outputs": [],
   "source": [
    "USERCF_PURESVD=MergeTwoModelsByScores(URM_train=URM_stacked, recommenders=[UserKNNCF_recommender,PURE_SVD])\n",
    "USERCF_PURESVD.fit(alpha=0.14062495687439416, beta=1.0)"
   ]
  },
  {
   "cell_type": "code",
   "execution_count": 20,
   "id": "a7dcd6ea",
   "metadata": {},
   "outputs": [],
   "source": [
    "USERCF_PURESVD_SLIME=MergeTwoModelsByScores(URM_train=URM_stacked, recommenders=[USERCF_PURESVD,SLIME_recommender])\n",
    "USERCF_PURESVD_SLIME.fit(alpha=0.08057891449236342, beta=0.557107802182469)"
   ]
  },
  {
   "cell_type": "code",
   "execution_count": 21,
   "id": "b1a4e905",
   "metadata": {},
   "outputs": [],
   "source": [
    "USERCF_PURESVD_SLIME_IALS=MergeTwoModelsByScores(URM_train=URM_stacked, recommenders=[USERCF_PURESVD_SLIME,IALS_recommender])\n",
    "USERCF_PURESVD_SLIME_IALS.fit(alpha=0.7415216864386212, beta=0.08416474584041955)"
   ]
  },
  {
   "cell_type": "code",
   "execution_count": 22,
   "id": "1e3326be",
   "metadata": {},
   "outputs": [],
   "source": [
    "USERCF_PURESVD_SLIME_IALS_RP3=MergeTwoModelsByScores(URM_train=URM_stacked, recommenders=[USERCF_PURESVD_SLIME_IALS,RP3Beta_recommender])\n",
    "USERCF_PURESVD_SLIME_IALS_RP3.fit(alpha=0.7415796670173784, beta=0.16018156909656459)"
   ]
  },
  {
   "cell_type": "code",
   "execution_count": 23,
   "id": "bc6402b7",
   "metadata": {},
   "outputs": [
    {
     "name": "stderr",
     "output_type": "stream",
     "text": [
      "100%|████████████████████████████████████▉| 18056/18059 [39:50<00:00,  7.55it/s]\n"
     ]
    }
   ],
   "source": [
    "submission = create_submission(USERCF_PURESVD_SLIME_IALS_RP3)\n",
    "write_submission(submission,\"USERCF_PURESVD_SLIME_IALS_RP3\")"
   ]
  },
  {
   "cell_type": "code",
   "execution_count": null,
   "id": "63e67f0c",
   "metadata": {},
   "outputs": [],
   "source": []
  }
 ],
 "metadata": {
  "kernelspec": {
   "display_name": "Python 3 (ipykernel)",
   "language": "python",
   "name": "python3"
  },
  "language_info": {
   "codemirror_mode": {
    "name": "ipython",
    "version": 3
   },
   "file_extension": ".py",
   "mimetype": "text/x-python",
   "name": "python",
   "nbconvert_exporter": "python",
   "pygments_lexer": "ipython3",
   "version": "3.8.12"
  }
 },
 "nbformat": 4,
 "nbformat_minor": 5
}
