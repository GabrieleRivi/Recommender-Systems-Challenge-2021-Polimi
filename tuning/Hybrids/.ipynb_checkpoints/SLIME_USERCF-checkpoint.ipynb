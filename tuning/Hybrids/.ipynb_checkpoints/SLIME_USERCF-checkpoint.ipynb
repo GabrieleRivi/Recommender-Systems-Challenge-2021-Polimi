{
 "cells": [
  {
   "cell_type": "code",
   "execution_count": 1,
   "id": "44341def",
   "metadata": {},
   "outputs": [],
   "source": [
    "import os\n",
    "os.chdir('/Users/gabriele/PycharmProjects/RecSys')\n",
    "from Utils.utils import create_URM, create_ICM, combine_matrices\n",
    "from src.Evaluation.Evaluator import EvaluatorHoldout\n",
    "from src.Data_manager.split_functions.split_train_validation_random_holdout import split_train_in_two_percentage_global_sample"
   ]
  },
  {
   "cell_type": "code",
   "execution_count": 2,
   "id": "388b7914",
   "metadata": {},
   "outputs": [
    {
     "name": "stdout",
     "output_type": "stream",
     "text": [
      "Warning: 10 (0.07 %) of 13650 users have no sampled items\n",
      "Warning: 22 (0.16 %) of 13650 users have no sampled items\n",
      "EvaluatorHoldout: Ignoring 13640 ( 0.1%) Users that have less than 1 test interactions\n",
      "EvaluatorHoldout: Ignoring 13628 ( 0.2%) Users that have less than 1 test interactions\n"
     ]
    }
   ],
   "source": [
    "##CREATE URM,ICM, ICM STACKED COMPLETELY TO TRAIN THE SINGLE RECOMMENDERS, AND STACKED PARTIALLY TO TUNE THE HYBRID\n",
    "URM = create_URM()\n",
    "ICM = create_ICM()\n",
    "\n",
    "URM_train_validation, URM_test = split_train_in_two_percentage_global_sample(URM, train_percentage=0.85)\n",
    "URM_train, URM_validation = split_train_in_two_percentage_global_sample(URM_train_validation, train_percentage=0.85)\n",
    "\n",
    "evaluator_test = EvaluatorHoldout(URM_test, cutoff_list=[10])\n",
    "evaluator_validation = EvaluatorHoldout(URM_validation, cutoff_list=[10])\n",
    "combined_matrices = combine_matrices(ICM=ICM, URM=URM_train)"
   ]
  },
  {
   "cell_type": "code",
   "execution_count": 3,
   "id": "2cdb4a87",
   "metadata": {},
   "outputs": [],
   "source": [
    "ICM_combined = combine_matrices(ICM=ICM,URM=URM)"
   ]
  },
  {
   "cell_type": "code",
   "execution_count": 5,
   "id": "67a16440",
   "metadata": {},
   "outputs": [
    {
     "name": "stdout",
     "output_type": "stream",
     "text": [
      "Unable to load Cython Compute_Similarity, reverting to Python\n",
      "Similarity column 13984 (100.0%), 911.56 column/sec. Elapsed time 15.34 sec\n"
     ]
    }
   ],
   "source": [
    "from src.Recommenders.KNN.UserKNNCFRecommender import UserKNNCFRecommender\n",
    "### UserCF Recommender\n",
    "UserCF_recommender = UserKNNCFRecommender(URM_train = ICM_combined)\n",
    "UserCF_recommender.fit(topK= 450, shrink= 5.0, similarity= \"tanimoto\")"
   ]
  },
  {
   "cell_type": "code",
   "execution_count": 6,
   "id": "6f2ffc4b",
   "metadata": {},
   "outputs": [
    {
     "name": "stderr",
     "output_type": "stream",
     "text": [
      "100%|████████████████████████████████████▉| 18056/18059 [11:30<00:00, 39.44it/s]"
     ]
    }
   ],
   "source": [
    "from src.Recommenders.SLIM.SLIMElasticNetRecommender import MultiThreadSLIM_SLIMElasticNetRecommender\n",
    "##SLIMELASTICNET Recommender\n",
    "SLIME_recommender = MultiThreadSLIM_SLIMElasticNetRecommender(URM_train=ICM_combined)\n",
    "SLIME_recommender.fit(topK=420, l1_ratio=0.06061216785568925, alpha=0.00554982938879437, workers = 10)"
   ]
  },
  {
   "cell_type": "code",
   "execution_count": null,
   "id": "f6c4ecd1",
   "metadata": {},
   "outputs": [],
   "source": [
    "from src.Hybrids.ItemKNNScoresHybridRecommender import ItemKNNScoresHybridRecommender\n",
    "##HYPERPARAMETER TUNING OF HYBRID\n",
    "from src.HyperparameterTuning.SearchBayesianSkopt import SearchBayesianSkopt\n",
    "from src.HyperparameterTuning.SearchAbstractClass import SearchInputRecommenderArgs\n",
    "from skopt.space import Real\n",
    "hyperparameters_range_dictionary = {\n",
    "    \"alpha\": Real(0.0, 1.0),\n",
    "    \"beta\": Real(0.0,1.0)\n",
    "}\n",
    "\n",
    "recommender_input_args = SearchInputRecommenderArgs(\n",
    "    CONSTRUCTOR_POSITIONAL_ARGS=[combined_matrices, SLIME_recommender, UserCF_recommender],\n",
    "    CONSTRUCTOR_KEYWORD_ARGS={},\n",
    "    FIT_POSITIONAL_ARGS=[],\n",
    "    FIT_KEYWORD_ARGS={}\n",
    ")\n",
    "recommender_input_args_last_test = SearchInputRecommenderArgs(\n",
    "    CONSTRUCTOR_POSITIONAL_ARGS=[URM_train_validation],\n",
    "    CONSTRUCTOR_KEYWORD_ARGS={},\n",
    "    FIT_POSITIONAL_ARGS=[],\n",
    "    FIT_KEYWORD_ARGS={}\n",
    ")\n",
    "\n",
    "tuning_class = SearchBayesianSkopt(recommender_class=ItemKNNScoresHybridRecommender,\n",
    "                                   evaluator_validation=evaluator_validation,\n",
    "                                   evaluator_test=evaluator_test)\n",
    "\n",
    "n_cases = 200\n",
    "n_random_starts = n_cases * 0.3\n",
    "output_folder_path = \"logs/\"\n",
    "\n",
    "tuning_class.search(recommender_input_args=recommender_input_args,\n",
    "                    hyperparameter_search_space=hyperparameters_range_dictionary,\n",
    "                    metric_to_optimize=\"MAP\",\n",
    "                    cutoff_to_optimize=10,\n",
    "                    n_cases=n_cases,\n",
    "                    n_random_starts=n_random_starts,\n",
    "                    output_folder_path=output_folder_path,\n",
    "                    output_file_name_root=ItemKNNScoresHybridRecommender.RECOMMENDER_NAME,\n",
    "                    save_model=\"best\"\n",
    "                    )\n",
    "\n",
    "\n"
   ]
  },
  {
   "cell_type": "code",
   "execution_count": null,
   "id": "3cc58855",
   "metadata": {},
   "outputs": [],
   "source": []
  }
 ],
 "metadata": {
  "kernelspec": {
   "display_name": "Python 3 (ipykernel)",
   "language": "python",
   "name": "python3"
  },
  "language_info": {
   "codemirror_mode": {
    "name": "ipython",
    "version": 3
   },
   "file_extension": ".py",
   "mimetype": "text/x-python",
   "name": "python",
   "nbconvert_exporter": "python",
   "pygments_lexer": "ipython3",
   "version": "3.8.12"
  }
 },
 "nbformat": 4,
 "nbformat_minor": 5
}
