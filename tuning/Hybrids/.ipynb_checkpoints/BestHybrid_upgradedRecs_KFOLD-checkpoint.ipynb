{
 "cells": [
  {
   "cell_type": "code",
   "execution_count": 1,
   "id": "3f96ed78",
   "metadata": {},
   "outputs": [],
   "source": [
    "##THE HYBRID WITH SLIME AND IALS RESULTS ARE BETTER THAN ANY OTHER ALGORITHM TESTED BEFORE\n",
    "import os\n",
    "\n",
    "os.chdir('/Users/gabriele/PycharmProjects/RecSys')\n",
    "from Utils.utils import create_URM, create_ICM, combine_matrices, create_submission, write_submission\n",
    "from src.Evaluation.Evaluator import EvaluatorHoldout\n",
    "from src.Data_manager.split_functions.split_train_validation_random_holdout import split_train_in_two_percentage_global_sample\n",
    "##NON-PERSONALIZED\n",
    "from src.Recommenders.Base.NonPersonalizedRecommender import TopPop\n",
    "\n",
    "#KNN\n",
    "from src.Recommenders.KNN.UserKNNCFRecommender import UserKNNCFRecommender\n",
    "from src.Recommenders.KNN.ItemKNNCFRecommender import ItemKNNCFRecommender\n",
    "from src.Recommenders.KNN.ItemKNNSimilarityHybridRecommender import ItemKNNSimilarityHybridRecommender\n",
    "from src.Recommenders.KNN.ItemKNNCBFRecommender import ItemKNNCBFRecommender\n",
    "from src.Recommenders.KNN.ItemKNN_CFCBF_Hybrid_Recommender import ItemKNN_CFCBF_Hybrid_Recommender\n",
    "\n",
    "#MATRIX-FACTORIZATION\n",
    "from src.Recommenders.SLIM.Cython.SLIM_BPR_Cython import SLIM_BPR_Cython\n",
    "from src.Recommenders.SLIM.SLIMElasticNetRecommender import MultiThreadSLIM_SLIMElasticNetRecommender\n",
    "from src.Recommenders.MatrixFactorization.Cython.MatrixFactorization_Cython import MatrixFactorization_BPR_Cython, MatrixFactorization_FunkSVD_Cython, MatrixFactorization_AsySVD_Cython\n",
    "from src.Recommenders.MatrixFactorization.PureSVDRecommender import PureSVDItemRecommender\n",
    "from src.Recommenders.MatrixFactorization.IALSRecommenderLinear import IALSRecommender\n",
    "from src.Recommenders.MatrixFactorization.NMFRecommender import NMFRecommender\n",
    "\n",
    "#GRAPHIC-BASED\n",
    "from src.Recommenders.GraphBased.P3alphaRecommender import P3alphaRecommender\n",
    "from src.Recommenders.GraphBased.RP3betaRecommender import RP3betaRecommender\n",
    "\n",
    "#HYBRID\n",
    "from src.Hybrids.MergingModelsByScores import MergeThreeModelsByScores, MergeTwoModelsByScores"
   ]
  },
  {
   "cell_type": "code",
   "execution_count": 2,
   "id": "c3b80643",
   "metadata": {},
   "outputs": [],
   "source": [
    "##CREATION OF MATRICES AND SPLITTING IN TRAIN-TEST-VALIDATION\n",
    "URM = create_URM()\n",
    "ICM = create_ICM()\n",
    "URM_stacked = combine_matrices(ICM=ICM, URM=URM)"
   ]
  },
  {
   "cell_type": "code",
   "execution_count": 4,
   "id": "43d4ac16",
   "metadata": {},
   "outputs": [
    {
     "name": "stderr",
     "output_type": "stream",
     "text": [
      "100%|████████████████████████████████████▉| 18032/18059 [12:51<00:00, 52.11it/s]"
     ]
    }
   ],
   "source": [
    "##SLIMELASTICNET Recommender\n",
    "SLIME_recommender = MultiThreadSLIM_SLIMElasticNetRecommender(URM_train=URM_stacked)\n",
    "SLIME_recommender.fit(topK=420, l1_ratio=0.06061216785568925, alpha=0.00554982938879437, workers = 10)"
   ]
  },
  {
   "cell_type": "code",
   "execution_count": 6,
   "id": "c321af6a",
   "metadata": {},
   "outputs": [],
   "source": [
    "##RP3BETA_recommender\n",
    "RP3BETA_recommender = RP3betaRecommender(URM_train=URM_stacked)\n",
    "RP3BETA_recommender.fit(topK=181, alpha=0.5709402717259106, beta=0.3566066452521787, implicit=True, normalize_similarity=True)"
   ]
  },
  {
   "cell_type": "code",
   "execution_count": 7,
   "id": "d4f4b0ee",
   "metadata": {},
   "outputs": [
    {
     "name": "stdout",
     "output_type": "stream",
     "text": [
      "IALSRecommenderLinear: Epoch 1 of 10. Elapsed time 7.50 sec\n",
      "IALSRecommenderLinear: Epoch 2 of 10. Elapsed time 14.57 sec\n",
      "IALSRecommenderLinear: Epoch 3 of 10. Elapsed time 21.66 sec\n",
      "IALSRecommenderLinear: Epoch 4 of 10. Elapsed time 28.97 sec\n",
      "IALSRecommenderLinear: Epoch 5 of 10. Elapsed time 37.10 sec\n",
      "IALSRecommenderLinear: Epoch 6 of 10. Elapsed time 44.83 sec\n",
      "IALSRecommenderLinear: Epoch 7 of 10. Elapsed time 56.17 sec\n",
      "IALSRecommenderLinear: Epoch 8 of 10. Elapsed time 1.07 min\n",
      "IALSRecommenderLinear: Epoch 9 of 10. Elapsed time 1.19 min\n",
      "IALSRecommenderLinear: Epoch 10 of 10. Elapsed time 1.31 min\n",
      "IALSRecommenderLinear: Terminating at epoch 10. Elapsed time 1.31 min\n"
     ]
    }
   ],
   "source": [
    "## IALS Recommender\n",
    "IALS_recommender = IALSRecommender(URM_train=URM_stacked)\n",
    "IALS_recommender.fit(epochs=10, num_factors=42, alpha=0.7617528864750021, reg=8.926401306541349)"
   ]
  },
  {
   "cell_type": "code",
   "execution_count": 10,
   "id": "0fc0f3f3",
   "metadata": {},
   "outputs": [],
   "source": [
    "similarity_rp3 = RP3BETA_recommender.W_sparse\n",
    "similarity_slime = SLIME_recommender.W_sparse\n",
    "similarity_hybrid = ItemKNNSimilarityHybridRecommender(URM_train = URM_stacked,\n",
    "                                                      Similarity_1 = similarity_rp3,\n",
    "                                                      Similarity_2 = similarity_slime)\n",
    "similarity_hybrid.fit(topK=494, alpha=0.1597863887003789 )\n",
    "recommenders_IALS3 =[similarity_hybrid,IALS_recommender]\n",
    "recommender = MergeTwoModelsByScores(URM_stacked, recommenders_IALS3)\n",
    "recommender.fit(alpha=0.4555360263375717,beta=0.13654581079541908)"
   ]
  },
  {
   "cell_type": "code",
   "execution_count": 11,
   "id": "4bddc5f4",
   "metadata": {},
   "outputs": [
    {
     "name": "stderr",
     "output_type": "stream",
     "text": [
      "100%|██████████████████████████████████▉| 18056/18059 [1:05:45<00:00,  4.58it/s]\n"
     ]
    }
   ],
   "source": [
    "submission = create_submission(recommender)"
   ]
  },
  {
   "cell_type": "code",
   "execution_count": 13,
   "id": "bf2f7dfe",
   "metadata": {},
   "outputs": [],
   "source": [
    "write_submission(submission,\"BestHybrid_upgradedRecs\")"
   ]
  },
  {
   "cell_type": "code",
   "execution_count": null,
   "id": "dfae294c",
   "metadata": {},
   "outputs": [],
   "source": [
    "from src.HyperparameterTuning.SearchBayesianSkopt import SearchBayesianSkopt\n",
    "from skopt.space import Real, Integer\n",
    "from src.HyperparameterTuning.SearchAbstractClass import SearchInputRecommenderArgs\n",
    "\n",
    "hyperparameters_range_dictionary = {\n",
    "    \"topK\": Integer(450,550),\n",
    "    \"alpha\": Real(0.0, 0.4)\n",
    "}\n",
    "\n",
    "\n",
    "recommender_input_args = SearchInputRecommenderArgs(\n",
    "    CONSTRUCTOR_POSITIONAL_ARGS=[stacked_train, similarity_rp3, similarity_slime],\n",
    "    CONSTRUCTOR_KEYWORD_ARGS={},\n",
    "    FIT_POSITIONAL_ARGS=[],\n",
    "    FIT_KEYWORD_ARGS={}\n",
    ")\n",
    "recommender_input_args_last_test = SearchInputRecommenderArgs(\n",
    "    CONSTRUCTOR_POSITIONAL_ARGS=[URM_train_validation],\n",
    "    CONSTRUCTOR_KEYWORD_ARGS={},\n",
    "    FIT_POSITIONAL_ARGS=[],\n",
    "    FIT_KEYWORD_ARGS={}\n",
    ")\n",
    "\n",
    "tuning_class = SearchBayesianSkopt(recommender_class=ItemKNNSimilarityHybridRecommender,\n",
    "                                   evaluator_validation=evaluator_validation,\n",
    "                                   evaluator_test=evaluator_test)\n",
    "\n",
    "n_cases = 100\n",
    "n_random_starts = n_cases * 0.3\n",
    "output_folder_path = \"logs/\"\n",
    "\n",
    "tuning_class.search(recommender_input_args=recommender_input_args,\n",
    "                    hyperparameter_search_space=hyperparameters_range_dictionary,\n",
    "                    metric_to_optimize=\"MAP\",\n",
    "                    cutoff_to_optimize=10,\n",
    "                    n_cases=n_cases,\n",
    "                    n_random_starts=n_random_starts,\n",
    "                    output_folder_path=output_folder_path,\n",
    "                    output_file_name_root=ItemKNNSimilarityHybridRecommender.RECOMMENDER_NAME,\n",
    "                    save_model=\"best\"\n",
    "                    )"
   ]
  }
 ],
 "metadata": {
  "kernelspec": {
   "display_name": "Python 3 (ipykernel)",
   "language": "python",
   "name": "python3"
  },
  "language_info": {
   "codemirror_mode": {
    "name": "ipython",
    "version": 3
   },
   "file_extension": ".py",
   "mimetype": "text/x-python",
   "name": "python",
   "nbconvert_exporter": "python",
   "pygments_lexer": "ipython3",
   "version": "3.8.12"
  }
 },
 "nbformat": 4,
 "nbformat_minor": 5
}
