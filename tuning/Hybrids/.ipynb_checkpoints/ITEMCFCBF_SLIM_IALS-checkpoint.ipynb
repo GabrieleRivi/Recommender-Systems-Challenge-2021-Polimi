{
 "cells": [
  {
   "cell_type": "code",
   "execution_count": 1,
   "id": "59099c89",
   "metadata": {},
   "outputs": [],
   "source": [
    "##THE HYBRID WITH SLIME AND IALS RESULTS ARE BETTER THAN ANY OTHER ALGORITHM TESTED BEFORE\n",
    "import os\n",
    "\n",
    "os.chdir('/Users/gabriele/PycharmProjects/RecSys')\n",
    "from Utils.utils import create_URM, create_ICM, combine_matrices, create_submission, write_submission\n",
    "from src.Evaluation.Evaluator import EvaluatorHoldout\n",
    "from src.Data_manager.split_functions.split_train_validation_random_holdout import split_train_in_two_percentage_global_sample\n",
    "##NON-PERSONALIZED\n",
    "from src.Recommenders.Base.NonPersonalizedRecommender import TopPop\n",
    "\n",
    "#KNN\n",
    "from src.Recommenders.KNN.UserKNNCFRecommender import UserKNNCFRecommender\n",
    "from src.Recommenders.KNN.ItemKNNCFRecommender import ItemKNNCFRecommender\n",
    "from src.Recommenders.KNN.ItemKNNSimilarityHybridRecommender import ItemKNNSimilarityHybridRecommender\n",
    "from src.Recommenders.KNN.ItemKNNCBFRecommender import ItemKNNCBFRecommender\n",
    "from src.Recommenders.KNN.ItemKNN_CFCBF_Hybrid_Recommender import ItemKNN_CFCBF_Hybrid_Recommender\n",
    "\n",
    "#MATRIX-FACTORIZATION\n",
    "from src.Recommenders.SLIM.Cython.SLIM_BPR_Cython import SLIM_BPR_Cython\n",
    "from src.Recommenders.SLIM.SLIMElasticNetRecommender import MultiThreadSLIM_SLIMElasticNetRecommender\n",
    "from src.Recommenders.MatrixFactorization.Cython.MatrixFactorization_Cython import MatrixFactorization_BPR_Cython, MatrixFactorization_FunkSVD_Cython, MatrixFactorization_AsySVD_Cython\n",
    "from src.Recommenders.MatrixFactorization.PureSVDRecommender import PureSVDItemRecommender\n",
    "from src.Recommenders.MatrixFactorization.IALSRecommenderLinear import IALSRecommender\n",
    "from src.Recommenders.MatrixFactorization.NMFRecommender import NMFRecommender\n",
    "\n",
    "#GRAPHIC-BASED\n",
    "from src.Recommenders.GraphBased.P3alphaRecommender import P3alphaRecommender\n",
    "from src.Recommenders.GraphBased.RP3betaRecommender import RP3betaRecommender\n",
    "\n",
    "#HYBRID\n",
    "from src.Hybrids.MergingModelsByScores import MergeThreeModelsByScores, MergeTwoModelsByScores"
   ]
  },
  {
   "cell_type": "code",
   "execution_count": 2,
   "id": "7f3f592f",
   "metadata": {},
   "outputs": [],
   "source": [
    "##CREATION OF MATRICES AND SPLITTING IN TRAIN-TEST-VALIDATION\n",
    "URM = create_URM()\n",
    "ICM = create_ICM()\n",
    "URM_stacked = combine_matrices(ICM=ICM, URM=URM)"
   ]
  },
  {
   "cell_type": "code",
   "execution_count": 3,
   "id": "4004a65c",
   "metadata": {},
   "outputs": [
    {
     "name": "stderr",
     "output_type": "stream",
     "text": [
      "100%|████████████████████████████████████▉| 18032/18059 [12:41<00:00, 53.93it/s]"
     ]
    }
   ],
   "source": [
    "##SLIMELASTICNET Recommender\n",
    "SLIME_recommender = MultiThreadSLIM_SLIMElasticNetRecommender(URM_train=URM_stacked)\n",
    "SLIME_recommender.fit(topK=420, l1_ratio=0.06061216785568925, alpha=0.00554982938879437, workers = 10)"
   ]
  },
  {
   "cell_type": "code",
   "execution_count": 4,
   "id": "384afa52",
   "metadata": {},
   "outputs": [
    {
     "name": "stdout",
     "output_type": "stream",
     "text": [
      "IALSRecommenderLinear: Epoch 1 of 10. Elapsed time 13.70 sec\n"
     ]
    },
    {
     "name": "stderr",
     "output_type": "stream",
     "text": [
      "\r",
      "100%|████████████████████████████████████▉| 18056/18059 [13:00<00:00, 53.93it/s]"
     ]
    },
    {
     "name": "stdout",
     "output_type": "stream",
     "text": [
      "IALSRecommenderLinear: Epoch 2 of 10. Elapsed time 34.66 sec\n",
      "IALSRecommenderLinear: Epoch 3 of 10. Elapsed time 54.45 sec\n",
      "IALSRecommenderLinear: Epoch 4 of 10. Elapsed time 1.16 min\n",
      "IALSRecommenderLinear: Epoch 5 of 10. Elapsed time 1.40 min\n",
      "IALSRecommenderLinear: Epoch 6 of 10. Elapsed time 1.67 min\n",
      "IALSRecommenderLinear: Epoch 7 of 10. Elapsed time 1.93 min\n",
      "IALSRecommenderLinear: Epoch 8 of 10. Elapsed time 2.19 min\n",
      "IALSRecommenderLinear: Epoch 9 of 10. Elapsed time 2.49 min\n",
      "IALSRecommenderLinear: Epoch 10 of 10. Elapsed time 2.77 min\n",
      "IALSRecommenderLinear: Terminating at epoch 10. Elapsed time 2.77 min\n"
     ]
    }
   ],
   "source": [
    "## IALS Recommender\n",
    "IALS_recommender = IALSRecommender(URM_train=URM_stacked)\n",
    "IALS_recommender.fit(epochs=10, num_factors=42, alpha=0.7617528864750021, reg=8.926401306541349)"
   ]
  },
  {
   "cell_type": "code",
   "execution_count": 9,
   "id": "cac9f868",
   "metadata": {},
   "outputs": [
    {
     "name": "stdout",
     "output_type": "stream",
     "text": [
      "ItemKNN_CFCBF_HybridRecommender: ICM Detected 1 ( 0.0%) items with no features.\n",
      "Unable to load Cython Compute_Similarity, reverting to Python\n",
      "Similarity column 18059 (100.0%), 950.16 column/sec. Elapsed time 19.01 sec\n"
     ]
    }
   ],
   "source": [
    "##ITEMCFCBF\n",
    "ITEMCFCBF=ItemKNN_CFCBF_Hybrid_Recommender(ICM_train=ICM,URM_train=URM)\n",
    "ITEMCFCBF.fit(topK=174, shrink=54.93865189896452, similarity='cosine')"
   ]
  },
  {
   "cell_type": "code",
   "execution_count": 10,
   "id": "0097e363",
   "metadata": {},
   "outputs": [],
   "source": [
    "ITEMCFCBF_SLIM = MergeTwoModelsByScores(URM_train = URM_stacked, recommenders=[ITEMCFCBF,SLIME_recommender])\n",
    "ITEMCFCBF_SLIM.fit(alpha=0.006419859589518687,beta=1.0)"
   ]
  },
  {
   "cell_type": "code",
   "execution_count": 11,
   "id": "9cf0b86a",
   "metadata": {},
   "outputs": [],
   "source": [
    "ITEMCFCBF_SLIM_IALS = MergeTwoModelsByScores(URM_train = URM_stacked, recommenders=[ITEMCFCBF_SLIM,IALS_recommender])\n",
    "ITEMCFCBF_SLIM_IALS.fit(alpha=0.7751267998183894,beta=0.35391338107827336)"
   ]
  },
  {
   "cell_type": "code",
   "execution_count": 12,
   "id": "529a7bc3",
   "metadata": {},
   "outputs": [
    {
     "name": "stderr",
     "output_type": "stream",
     "text": [
      "100%|██████████████████████████████████▉| 18056/18059 [1:09:28<00:00,  4.33it/s]\n"
     ]
    }
   ],
   "source": [
    "submission = create_submission(ITEMCFCBF_SLIM_IALS)\n",
    "write_submission(submission,\"ITEMCFCBF_SLIM_IALS\")"
   ]
  },
  {
   "cell_type": "code",
   "execution_count": 14,
   "id": "26d5b45a",
   "metadata": {},
   "outputs": [],
   "source": [
    "##CREATION OF DIFFERENT RECOMMENDERS TUNED\n",
    "\n",
    "### RP3Beta Recommender\n",
    "RP3Beta_recommender = RP3betaRecommender(URM_train=URM)\n",
    "RP3Beta_recommender.fit(topK=181, alpha=0.5709402717259106, beta=0.3566066452521787, implicit=True, normalize_similarity=True)"
   ]
  },
  {
   "cell_type": "code",
   "execution_count": 20,
   "id": "be1b7000",
   "metadata": {},
   "outputs": [],
   "source": [
    "##RP3HYBRIDSLIME_IALS\n",
    "similarity_slime = SLIME_recommender.W_sparse\n",
    "similarity_rp3 = RP3Beta_recommender.W_sparse\n",
    "\n",
    "similarity_hybrid = ItemKNNSimilarityHybridRecommender(URM_train = URM_stacked,\n",
    "                                                      Similarity_1 = similarity_rp3,\n",
    "                                                      Similarity_2 = similarity_slime)\n",
    "similarity_hybrid.fit(topK=494, alpha=0.1597863887003789 )\n",
    "recommenders =[similarity_hybrid,IALS_recommender]\n",
    "hybrid = MergeTwoModelsByScores(URM_stacked, recommenders)\n",
    "hybrid.fit(alpha=0.4555360263375717,beta=0.13654581079541908)"
   ]
  },
  {
   "cell_type": "code",
   "execution_count": 21,
   "id": "0d70dc8d",
   "metadata": {},
   "outputs": [],
   "source": [
    "ITEMCFCBF_SLIM_HYBRID =MergeTwoModelsByScores(URM_train = URM_stacked, recommenders=[ITEMCFCBF_SLIM_IALS,hybrid])\n",
    "ITEMCFCBF_SLIM_HYBRID.fit(alpha=0.5134425691700654,beta=0.44336807279575097)"
   ]
  },
  {
   "cell_type": "code",
   "execution_count": 22,
   "id": "a83636c2",
   "metadata": {},
   "outputs": [],
   "source": [
    "submission = create_submission(ITEMCFCBF_SLIM_HYBRID)\n",
    "write_submission(submission,\"ITEMCFCBF_SLIM_HYBRID\")"
   ]
  },
  {
   "cell_type": "code",
   "execution_count": null,
   "id": "c404c65e",
   "metadata": {},
   "outputs": [],
   "source": []
  }
 ],
 "metadata": {
  "kernelspec": {
   "display_name": "Python 3 (ipykernel)",
   "language": "python",
   "name": "python3"
  },
  "language_info": {
   "codemirror_mode": {
    "name": "ipython",
    "version": 3
   },
   "file_extension": ".py",
   "mimetype": "text/x-python",
   "name": "python",
   "nbconvert_exporter": "python",
   "pygments_lexer": "ipython3",
   "version": "3.8.12"
  }
 },
 "nbformat": 4,
 "nbformat_minor": 5
}
