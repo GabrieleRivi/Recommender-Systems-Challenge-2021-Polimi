{
 "cells": [
  {
   "cell_type": "code",
   "execution_count": 5,
   "id": "f42f2d56",
   "metadata": {},
   "outputs": [],
   "source": [
    "import os\n",
    "\n",
    "os.chdir('/Users/gabriele/PycharmProjects/RecSys')\n",
    "from Utils.utils import create_URM, create_ICM, combine_matrices, create_submission, write_submission\n",
    "from src.Evaluation.Evaluator import EvaluatorHoldout\n",
    "from src.Evaluation.K_FoldEvaluator import K_FoldEvaluator\n",
    "from src.Data_manager.split_functions.split_train_validation_random_holdout import split_train_in_two_percentage_global_sample\n",
    "##NON-PERSONALIZED\n",
    "from src.Recommenders.Base.NonPersonalizedRecommender import TopPop\n",
    "\n",
    "#KNN\n",
    "from src.Recommenders.KNN.UserKNNCFRecommender import UserKNNCFRecommender\n",
    "from src.Recommenders.KNN.ItemKNNCFRecommender import ItemKNNCFRecommender\n",
    "from src.Recommenders.KNN.ItemKNNCBFRecommender import ItemKNNCBFRecommender\n",
    "from src.Recommenders.KNN.ItemKNN_CFCBF_Hybrid_Recommender import ItemKNN_CFCBF_Hybrid_Recommender\n",
    "from src.Recommenders.KNN.ItemKNNSimilarityHybridRecommender import ItemKNNSimilarityHybridRecommender\n",
    "\n",
    "#MATRIX-FACTORIZATION\n",
    "from src.Recommenders.SLIM.Cython.SLIM_BPR_Cython import SLIM_BPR_Cython\n",
    "from src.Recommenders.SLIM.SLIMElasticNetRecommender import MultiThreadSLIM_SLIMElasticNetRecommender\n",
    "from src.Recommenders.MatrixFactorization.Cython.MatrixFactorization_Cython import MatrixFactorization_BPR_Cython, MatrixFactorization_FunkSVD_Cython, MatrixFactorization_AsySVD_Cython\n",
    "from src.Recommenders.MatrixFactorization.PureSVDRecommender import PureSVDRecommender\n",
    "from src.Recommenders.MatrixFactorization.IALSRecommenderLinear import IALSRecommender\n",
    "from src.Recommenders.MatrixFactorization.NMFRecommender import NMFRecommender\n",
    "\n",
    "#GRAPHIC-BASED\n",
    "from src.Recommenders.GraphBased.P3alphaRecommender import P3alphaRecommender\n",
    "from src.Recommenders.GraphBased.RP3betaRecommender import RP3betaRecommender\n",
    "\n",
    "#HYBRID\n",
    "from src.Hybrids.MergingModelsByScores import MergeTwoModelsByScores, MergeThreeModelsByScores"
   ]
  },
  {
   "cell_type": "code",
   "execution_count": 6,
   "id": "c57e0190",
   "metadata": {},
   "outputs": [],
   "source": [
    "##CREATION OF MATRICES AND SPLITTING IN TRAIN-TEST-VALIDATION\n",
    "URM = create_URM()\n",
    "ICM = create_ICM()"
   ]
  },
  {
   "cell_type": "code",
   "execution_count": 7,
   "id": "d74bd400",
   "metadata": {},
   "outputs": [],
   "source": [
    "URM_stacked = combine_matrices(ICM=ICM,URM=URM)"
   ]
  },
  {
   "cell_type": "code",
   "execution_count": 8,
   "id": "5fb865da",
   "metadata": {},
   "outputs": [],
   "source": [
    "rp3_recommender=RP3betaRecommender(URM_train=URM_stacked)\n",
    "rp3_recommender.fit(topK=181, \n",
    "                    alpha=0.5709402717259106, \n",
    "                    beta=0.3566066452521787, \n",
    "                    implicit=True, \n",
    "                    normalize_similarity=True)"
   ]
  },
  {
   "cell_type": "code",
   "execution_count": 9,
   "id": "23bb1053",
   "metadata": {},
   "outputs": [
    {
     "name": "stderr",
     "output_type": "stream",
     "text": [
      "100%|████████████████████████████████████▉| 18032/18059 [14:00<00:00, 45.60it/s]"
     ]
    }
   ],
   "source": [
    "slime_recommender=MultiThreadSLIM_SLIMElasticNetRecommender(URM_train=URM_stacked)\n",
    "slime_recommender.fit(topK=420, \n",
    "                      l1_ratio=0.06061216785568925, \n",
    "                      alpha=0.00554982938879437, \n",
    "                      workers = 20)"
   ]
  },
  {
   "cell_type": "code",
   "execution_count": 10,
   "id": "e56a1faa",
   "metadata": {},
   "outputs": [
    {
     "name": "stdout",
     "output_type": "stream",
     "text": [
      "IALSRecommenderLinear: Epoch 1 of 10. Elapsed time 10.13 sec\n"
     ]
    },
    {
     "name": "stderr",
     "output_type": "stream",
     "text": [
      "\r",
      "100%|████████████████████████████████████▉| 18056/18059 [14:20<00:00, 45.60it/s]"
     ]
    },
    {
     "name": "stdout",
     "output_type": "stream",
     "text": [
      "IALSRecommenderLinear: Epoch 2 of 10. Elapsed time 20.37 sec\n",
      "IALSRecommenderLinear: Epoch 3 of 10. Elapsed time 30.54 sec\n",
      "IALSRecommenderLinear: Epoch 4 of 10. Elapsed time 40.30 sec\n",
      "IALSRecommenderLinear: Epoch 5 of 10. Elapsed time 48.89 sec\n",
      "IALSRecommenderLinear: Epoch 6 of 10. Elapsed time 57.30 sec\n",
      "IALSRecommenderLinear: Epoch 7 of 10. Elapsed time 1.10 min\n",
      "IALSRecommenderLinear: Epoch 8 of 10. Elapsed time 1.23 min\n",
      "IALSRecommenderLinear: Epoch 9 of 10. Elapsed time 1.38 min\n",
      "IALSRecommenderLinear: Epoch 10 of 10. Elapsed time 1.53 min\n",
      "IALSRecommenderLinear: Terminating at epoch 10. Elapsed time 1.53 min\n"
     ]
    }
   ],
   "source": [
    "IALS_recommender=IALSRecommender(URM_train=URM_stacked)\n",
    "IALS_recommender.fit(epochs=10, \n",
    "                     num_factors=42, \n",
    "                     alpha=0.7617528864750021, \n",
    "                     reg=8.926401306541349)"
   ]
  },
  {
   "cell_type": "code",
   "execution_count": 11,
   "id": "1489d9a1",
   "metadata": {},
   "outputs": [],
   "source": [
    "recommender = MergeThreeModelsByScores(URM_train=URM_stacked,recommenders=[slime_recommender,IALS_recommender,rp3_recommender])\n",
    "recommender.fit(alpha=0.8257646978659972,beta=0.271877679621908,gamma=0.2321636664081369)"
   ]
  },
  {
   "cell_type": "code",
   "execution_count": 12,
   "id": "74024d0b",
   "metadata": {},
   "outputs": [
    {
     "name": "stderr",
     "output_type": "stream",
     "text": [
      "100%|████████████████████████████████████▉| 18056/18059 [15:54<00:00, 18.91it/s]\n"
     ]
    }
   ],
   "source": [
    "submission = create_submission(recommender)\n",
    "write_submission(submission,\"hybrid_KFOLD_scores\")"
   ]
  },
  {
   "cell_type": "code",
   "execution_count": null,
   "id": "ad6600a4",
   "metadata": {},
   "outputs": [],
   "source": []
  }
 ],
 "metadata": {
  "kernelspec": {
   "display_name": "Python 3 (ipykernel)",
   "language": "python",
   "name": "python3"
  },
  "language_info": {
   "codemirror_mode": {
    "name": "ipython",
    "version": 3
   },
   "file_extension": ".py",
   "mimetype": "text/x-python",
   "name": "python",
   "nbconvert_exporter": "python",
   "pygments_lexer": "ipython3",
   "version": "3.8.12"
  }
 },
 "nbformat": 4,
 "nbformat_minor": 5
}
