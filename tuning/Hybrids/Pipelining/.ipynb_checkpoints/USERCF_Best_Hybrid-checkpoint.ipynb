{
 "cells": [
  {
   "cell_type": "code",
   "execution_count": 1,
   "id": "8f707dbb",
   "metadata": {},
   "outputs": [],
   "source": [
    "import os\n",
    "\n",
    "os.chdir('/Users/gabriele/PycharmProjects/RecSys')\n",
    "import numpy as np\n",
    "from Utils.utils import create_URM, create_ICM, combine_matrices, create_submission, write_submission\n",
    "from src.Evaluation.Evaluator import EvaluatorHoldout\n",
    "from src.Evaluation.K_FoldEvaluator import K_FoldEvaluator\n",
    "from src.Data_manager.split_functions.split_train_validation_random_holdout import split_train_in_two_percentage_global_sample\n",
    "##NON-PERSONALIZED\n",
    "from src.Recommenders.Base.NonPersonalizedRecommender import TopPop\n",
    "\n",
    "#KNN\n",
    "from src.Recommenders.KNN.UserKNNCFRecommender import UserKNNCFRecommender\n",
    "from src.Recommenders.KNN.ItemKNNCFRecommender import ItemKNNCFRecommender\n",
    "from src.Recommenders.KNN.ItemKNNCBFRecommender import ItemKNNCBFRecommender\n",
    "from src.Recommenders.KNN.ItemKNN_CFCBF_Hybrid_Recommender import ItemKNN_CFCBF_Hybrid_Recommender\n",
    "from src.Recommenders.KNN.ItemKNNSimilarityHybridRecommender import ItemKNNSimilarityHybridRecommender\n",
    "\n",
    "#MATRIX-FACTORIZATION\n",
    "from src.Recommenders.SLIM.Cython.SLIM_BPR_Cython import SLIM_BPR_Cython\n",
    "from src.Recommenders.SLIM.SLIMElasticNetRecommender import MultiThreadSLIM_SLIMElasticNetRecommender\n",
    "from src.Recommenders.MatrixFactorization.Cython.MatrixFactorization_Cython import MatrixFactorization_BPR_Cython, MatrixFactorization_FunkSVD_Cython, MatrixFactorization_AsySVD_Cython\n",
    "from src.Recommenders.MatrixFactorization.PureSVDRecommender import PureSVDRecommender\n",
    "from src.Recommenders.MatrixFactorization.IALSRecommenderLinear import IALSRecommender\n",
    "from src.Recommenders.MatrixFactorization.NMFRecommender import NMFRecommender\n",
    "\n",
    "#GRAPHIC-BASED\n",
    "from src.Recommenders.GraphBased.P3alphaRecommender import P3alphaRecommender\n",
    "from src.Recommenders.GraphBased.RP3betaRecommender import RP3betaRecommender\n",
    "\n",
    "#HYBRID\n",
    "from src.Hybrids.MergingModelsByScores import MergeTwoModelsByScores, MergeThreeModelsByScores"
   ]
  },
  {
   "cell_type": "code",
   "execution_count": 2,
   "id": "94f7ed98",
   "metadata": {},
   "outputs": [],
   "source": [
    "##CREATION OF MATRICES AND SPLITTING IN TRAIN-TEST-VALIDATION\n",
    "URM = create_URM()\n",
    "ICM = create_ICM()\n",
    "URM_stacked = combine_matrices(ICM=ICM, URM=URM)"
   ]
  },
  {
   "cell_type": "code",
   "execution_count": 3,
   "id": "544c67a3",
   "metadata": {},
   "outputs": [
    {
     "name": "stdout",
     "output_type": "stream",
     "text": [
      "Warning: 61 (0.44 %) of 13984 users have no sampled items\n",
      "Warning: 3 (0.02 %) of 13984 users have no train items\n",
      "Warning: 90 (0.64 %) of 13984 users have no sampled items\n",
      "EvaluatorHoldout: Ignoring 13923 ( 0.4%) Users that have less than 1 test interactions\n",
      "EvaluatorHoldout: Ignoring 13894 ( 0.6%) Users that have less than 1 test interactions\n"
     ]
    }
   ],
   "source": [
    "URM_train_validation, URM_test = split_train_in_two_percentage_global_sample(URM_stacked, train_percentage=0.85)\n",
    "URM_train, URM_validation = split_train_in_two_percentage_global_sample(URM_train_validation, train_percentage=0.85)\n",
    "evaluator_test = EvaluatorHoldout(URM_test, cutoff_list=[10])\n",
    "evaluator_validation = EvaluatorHoldout(URM_validation, cutoff_list=[10])"
   ]
  },
  {
   "cell_type": "code",
   "execution_count": 4,
   "id": "09960024",
   "metadata": {},
   "outputs": [],
   "source": [
    "stacked_train = combine_matrices(ICM=ICM, URM= URM_train)"
   ]
  },
  {
   "cell_type": "code",
   "execution_count": 5,
   "id": "b82a98f1",
   "metadata": {},
   "outputs": [
    {
     "name": "stdout",
     "output_type": "stream",
     "text": [
      "RP3betaRecommender: URM Detected 3 ( 0.0%) users with no interactions.\n"
     ]
    }
   ],
   "source": [
    "### RP3Beta Recommender\n",
    "RP3Beta_recommender = RP3betaRecommender(URM_train=URM_train)\n",
    "RP3Beta_recommender.fit(topK=181, alpha=0.5709402717259106, beta=0.3566066452521787, implicit=True, normalize_similarity=True)"
   ]
  },
  {
   "cell_type": "code",
   "execution_count": null,
   "id": "847e25ef",
   "metadata": {},
   "outputs": [],
   "source": [
    "##SLIMELASTICNET Recommender\n",
    "SLIME_recommender = MultiThreadSLIM_SLIMElasticNetRecommender(URM_train=URM_stacked)\n",
    "SLIME_recommender.fit(topK=420, l1_ratio=0.06061216785568925, alpha=0.00554982938879437, workers = 10)"
   ]
  },
  {
   "cell_type": "code",
   "execution_count": null,
   "id": "d5dd8daf",
   "metadata": {},
   "outputs": [],
   "source": [
    "similarity_slime = SLIME_recommender.W_sparse\n",
    "similarity_rp3 = RP3Beta_recommender.W_sparse"
   ]
  },
  {
   "cell_type": "code",
   "execution_count": null,
   "id": "292185a2",
   "metadata": {},
   "outputs": [],
   "source": [
    "\n",
    "similarity_hybrid = ItemKNNSimilarityHybridRecommender(URM_train = URM_stacked,\n",
    "                                                      Similarity_1 = similarity_rp3,\n",
    "                                                      Similarity_2 = similarity_slime)\n",
    "similarity_hybrid.fit(topK=494, alpha=0.1597863887003789 )"
   ]
  },
  {
   "cell_type": "code",
   "execution_count": null,
   "id": "af88c89a",
   "metadata": {},
   "outputs": [],
   "source": [
    "## IALS Recommender\n",
    "IALS_recommender = IALSRecommender(URM_train=URM_stacked)\n",
    "IALS_recommender.fit(epochs=10, num_factors=42, alpha=0.7617528864750021, reg=8.926401306541349)"
   ]
  },
  {
   "cell_type": "code",
   "execution_count": null,
   "id": "a3e8a346",
   "metadata": {},
   "outputs": [],
   "source": [
    "recommenders = [similarity_hybrid, IALS_recommender]\n",
    "hybrid = MergeTwoModelsByScores(URM_stacked, recommenders)\n",
    "hybrid.fit(alpha=0.4555360263375717,beta=0.13654581079541908)"
   ]
  },
  {
   "cell_type": "code",
   "execution_count": null,
   "id": "e51cea46",
   "metadata": {},
   "outputs": [],
   "source": [
    "##UserKNNCF\n",
    "UserKNNCF_recommender = UserKNNCFRecommender(URM_train = stacked_train)\n",
    "UserKNNCF_recommender.fit(topK=450, shrink=5.0, similarity=\"tanimoto\")"
   ]
  },
  {
   "cell_type": "code",
   "execution_count": null,
   "id": "6017a7aa",
   "metadata": {},
   "outputs": [],
   "source": []
  }
 ],
 "metadata": {
  "kernelspec": {
   "display_name": "Python 3 (ipykernel)",
   "language": "python",
   "name": "python3"
  },
  "language_info": {
   "codemirror_mode": {
    "name": "ipython",
    "version": 3
   },
   "file_extension": ".py",
   "mimetype": "text/x-python",
   "name": "python",
   "nbconvert_exporter": "python",
   "pygments_lexer": "ipython3",
   "version": "3.8.12"
  }
 },
 "nbformat": 4,
 "nbformat_minor": 5
}
