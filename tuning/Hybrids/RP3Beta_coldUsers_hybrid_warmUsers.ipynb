{
 "cells": [
  {
   "cell_type": "code",
   "execution_count": 1,
   "id": "cf79bea9",
   "metadata": {},
   "outputs": [],
   "source": [
    "import os\n",
    "\n",
    "os.chdir('/Users/gabriele/PycharmProjects/RecSys')\n",
    "from Utils.utils import create_URM, create_ICM, combine_matrices\n",
    "from src.Evaluation.Evaluator import EvaluatorHoldout\n",
    "from src.Data_manager.split_functions.split_train_validation_random_holdout import split_train_in_two_percentage_global_sample\n",
    "##NON-PERSONALIZED\n",
    "from src.Recommenders.Base.NonPersonalizedRecommender import TopPop\n",
    "\n",
    "#KNN\n",
    "from src.Recommenders.KNN.UserKNNCFRecommender import UserKNNCFRecommender\n",
    "from src.Recommenders.KNN.ItemKNNCFRecommender import ItemKNNCFRecommender\n",
    "from src.Recommenders.KNN.ItemKNNCBFRecommender import ItemKNNCBFRecommender\n",
    "from src.Recommenders.KNN.ItemKNN_CFCBF_Hybrid_Recommender import ItemKNN_CFCBF_Hybrid_Recommender\n",
    "\n",
    "#MATRIX-FACTORIZATION\n",
    "from src.Recommenders.SLIM.Cython.SLIM_BPR_Cython import SLIM_BPR_Cython\n",
    "from src.Recommenders.SLIM.SLIMElasticNetRecommender import MultiThreadSLIM_SLIMElasticNetRecommender\n",
    "from src.Recommenders.MatrixFactorization.Cython.MatrixFactorization_Cython import MatrixFactorization_BPR_Cython, MatrixFactorization_FunkSVD_Cython, MatrixFactorization_AsySVD_Cython\n",
    "from src.Recommenders.MatrixFactorization.PureSVDRecommender import PureSVDRecommender\n",
    "from src.Recommenders.MatrixFactorization.IALSRecommenderLinear import IALSRecommender\n",
    "from src.Recommenders.MatrixFactorization.NMFRecommender import NMFRecommender\n",
    "\n",
    "#GRAPHIC-BASED\n",
    "from src.Recommenders.GraphBased.P3alphaRecommender import P3alphaRecommender\n",
    "from src.Recommenders.GraphBased.RP3betaRecommender import RP3betaRecommender\n",
    "\n",
    "#HYBRID\n",
    "from src.Hybrids.MergingModelsByScores import MergeThreeModelsByScores"
   ]
  },
  {
   "cell_type": "code",
   "execution_count": 2,
   "id": "0014e4ff",
   "metadata": {},
   "outputs": [],
   "source": [
    "##CREATION OF MATRICES AND SPLITTING IN TRAIN-TEST-VALIDATION\n",
    "URM = create_URM()\n",
    "ICM = create_ICM()\n",
    "URM_stacked = combine_matrices(ICM=ICM, URM=URM)"
   ]
  },
  {
   "cell_type": "code",
   "execution_count": 3,
   "id": "c28f8cd7",
   "metadata": {},
   "outputs": [
    {
     "name": "stdout",
     "output_type": "stream",
     "text": [
      "Warning: 66 (0.47 %) of 13984 users have no sampled items\n",
      "Warning: 1 (0.01 %) of 13984 users have no train items\n",
      "Warning: 71 (0.51 %) of 13984 users have no sampled items\n"
     ]
    }
   ],
   "source": [
    "URM_train_validation, URM_test = split_train_in_two_percentage_global_sample(URM_stacked, train_percentage=0.85)\n",
    "URM_train, URM_validation = split_train_in_two_percentage_global_sample(URM_train_validation, train_percentage=0.85)"
   ]
  },
  {
   "cell_type": "code",
   "execution_count": 4,
   "id": "3905b5d5",
   "metadata": {},
   "outputs": [
    {
     "data": {
      "text/plain": [
       "(array([168, 609, 140, ..., 260, 182, 329], dtype=int32), (13650,))"
      ]
     },
     "execution_count": 4,
     "metadata": {},
     "output_type": "execute_result"
    }
   ],
   "source": [
    "import numpy as np \n",
    "import scipy.sparse as sps\n",
    "\n",
    "profile_length = np.ediff1d(sps.csr_matrix(URM).indptr)\n",
    "profile_length, profile_length.shape"
   ]
  },
  {
   "cell_type": "code",
   "execution_count": 5,
   "id": "71a83310",
   "metadata": {},
   "outputs": [
    {
     "data": {
      "text/plain": [
       "2730"
      ]
     },
     "execution_count": 5,
     "metadata": {},
     "output_type": "execute_result"
    }
   ],
   "source": [
    "block_size = int(len(profile_length)*0.20)\n",
    "block_size"
   ]
  },
  {
   "cell_type": "code",
   "execution_count": 6,
   "id": "df363556",
   "metadata": {},
   "outputs": [
    {
     "data": {
      "text/plain": [
       "array([1876, 9021, 5660, ..., 1141, 8526,  317])"
      ]
     },
     "execution_count": 6,
     "metadata": {},
     "output_type": "execute_result"
    }
   ],
   "source": [
    "sorted_users = np.argsort(profile_length)\n",
    "sorted_users"
   ]
  },
  {
   "cell_type": "code",
   "execution_count": 7,
   "id": "9abb4c26",
   "metadata": {},
   "outputs": [
    {
     "data": {
      "text/plain": [
       "13650"
      ]
     },
     "execution_count": 7,
     "metadata": {},
     "output_type": "execute_result"
    }
   ],
   "source": [
    "len(sorted_users)"
   ]
  },
  {
   "cell_type": "code",
   "execution_count": 8,
   "id": "ad1f4aa1",
   "metadata": {},
   "outputs": [],
   "source": [
    "cold_start_pos = 0\n",
    "cold_end_pos = block_size\n",
    "cold_users_group = sorted_users[cold_start_pos:cold_end_pos]"
   ]
  },
  {
   "cell_type": "code",
   "execution_count": 9,
   "id": "f6d5fe72",
   "metadata": {},
   "outputs": [
    {
     "data": {
      "text/plain": [
       "2730"
      ]
     },
     "execution_count": 9,
     "metadata": {},
     "output_type": "execute_result"
    }
   ],
   "source": [
    "len(cold_users_group)"
   ]
  },
  {
   "cell_type": "code",
   "execution_count": 10,
   "id": "e48ed45d",
   "metadata": {},
   "outputs": [],
   "source": [
    "warm_users_group = sorted_users[cold_end_pos:]"
   ]
  },
  {
   "cell_type": "code",
   "execution_count": 11,
   "id": "530e8f66",
   "metadata": {},
   "outputs": [
    {
     "data": {
      "text/plain": [
       "10920"
      ]
     },
     "execution_count": 11,
     "metadata": {},
     "output_type": "execute_result"
    }
   ],
   "source": [
    "len(warm_users_group)"
   ]
  },
  {
   "cell_type": "code",
   "execution_count": 13,
   "id": "bdf8b439",
   "metadata": {},
   "outputs": [
    {
     "name": "stdout",
     "output_type": "stream",
     "text": [
      "IALSRecommenderLinear: Epoch 1 of 50. Elapsed time 10.20 sec\n",
      "IALSRecommenderLinear: Epoch 2 of 50. Elapsed time 22.84 sec\n",
      "IALSRecommenderLinear: Epoch 3 of 50. Elapsed time 31.38 sec\n",
      "IALSRecommenderLinear: Epoch 4 of 50. Elapsed time 38.74 sec\n",
      "IALSRecommenderLinear: Epoch 5 of 50. Elapsed time 44.68 sec\n",
      "IALSRecommenderLinear: Epoch 6 of 50. Elapsed time 50.70 sec\n",
      "IALSRecommenderLinear: Epoch 7 of 50. Elapsed time 56.76 sec\n",
      "IALSRecommenderLinear: Epoch 8 of 50. Elapsed time 1.04 min\n",
      "IALSRecommenderLinear: Epoch 9 of 50. Elapsed time 1.14 min\n",
      "IALSRecommenderLinear: Epoch 10 of 50. Elapsed time 1.24 min\n",
      "IALSRecommenderLinear: Epoch 11 of 50. Elapsed time 1.35 min\n",
      "IALSRecommenderLinear: Epoch 12 of 50. Elapsed time 1.45 min\n",
      "IALSRecommenderLinear: Epoch 13 of 50. Elapsed time 1.56 min\n",
      "IALSRecommenderLinear: Epoch 14 of 50. Elapsed time 1.66 min\n",
      "IALSRecommenderLinear: Epoch 15 of 50. Elapsed time 1.76 min\n",
      "IALSRecommenderLinear: Epoch 16 of 50. Elapsed time 1.86 min\n",
      "IALSRecommenderLinear: Epoch 17 of 50. Elapsed time 1.96 min\n",
      "IALSRecommenderLinear: Epoch 18 of 50. Elapsed time 2.06 min\n",
      "IALSRecommenderLinear: Epoch 19 of 50. Elapsed time 2.16 min\n",
      "IALSRecommenderLinear: Epoch 20 of 50. Elapsed time 2.26 min\n",
      "IALSRecommenderLinear: Epoch 21 of 50. Elapsed time 2.36 min\n",
      "IALSRecommenderLinear: Epoch 22 of 50. Elapsed time 2.46 min\n",
      "IALSRecommenderLinear: Epoch 23 of 50. Elapsed time 2.56 min\n",
      "IALSRecommenderLinear: Epoch 24 of 50. Elapsed time 2.66 min\n",
      "IALSRecommenderLinear: Epoch 25 of 50. Elapsed time 2.77 min\n",
      "IALSRecommenderLinear: Epoch 26 of 50. Elapsed time 2.87 min\n",
      "IALSRecommenderLinear: Epoch 27 of 50. Elapsed time 2.97 min\n",
      "IALSRecommenderLinear: Epoch 28 of 50. Elapsed time 3.07 min\n",
      "IALSRecommenderLinear: Epoch 29 of 50. Elapsed time 3.17 min\n",
      "IALSRecommenderLinear: Epoch 30 of 50. Elapsed time 3.27 min\n",
      "IALSRecommenderLinear: Epoch 31 of 50. Elapsed time 3.37 min\n",
      "IALSRecommenderLinear: Epoch 32 of 50. Elapsed time 3.48 min\n",
      "IALSRecommenderLinear: Epoch 33 of 50. Elapsed time 3.58 min\n",
      "IALSRecommenderLinear: Epoch 34 of 50. Elapsed time 3.68 min\n",
      "IALSRecommenderLinear: Epoch 35 of 50. Elapsed time 3.78 min\n",
      "IALSRecommenderLinear: Epoch 36 of 50. Elapsed time 3.88 min\n",
      "IALSRecommenderLinear: Epoch 37 of 50. Elapsed time 3.98 min\n",
      "IALSRecommenderLinear: Epoch 38 of 50. Elapsed time 4.09 min\n",
      "IALSRecommenderLinear: Epoch 39 of 50. Elapsed time 4.19 min\n",
      "IALSRecommenderLinear: Epoch 40 of 50. Elapsed time 4.29 min\n",
      "IALSRecommenderLinear: Epoch 41 of 50. Elapsed time 4.39 min\n",
      "IALSRecommenderLinear: Epoch 42 of 50. Elapsed time 4.49 min\n",
      "IALSRecommenderLinear: Epoch 43 of 50. Elapsed time 4.59 min\n",
      "IALSRecommenderLinear: Epoch 44 of 50. Elapsed time 4.70 min\n",
      "IALSRecommenderLinear: Epoch 45 of 50. Elapsed time 4.80 min\n",
      "IALSRecommenderLinear: Epoch 46 of 50. Elapsed time 4.90 min\n",
      "IALSRecommenderLinear: Epoch 47 of 50. Elapsed time 5.01 min\n",
      "IALSRecommenderLinear: Epoch 48 of 50. Elapsed time 5.11 min\n",
      "IALSRecommenderLinear: Epoch 49 of 50. Elapsed time 5.21 min\n",
      "IALSRecommenderLinear: Epoch 50 of 50. Elapsed time 5.32 min\n",
      "IALSRecommenderLinear: Terminating at epoch 50. Elapsed time 5.32 min\n"
     ]
    },
    {
     "name": "stderr",
     "output_type": "stream",
     "text": [
      "100%|████████████████████████████████████▉| 18032/18059 [11:12<00:00, 45.57it/s]"
     ]
    }
   ],
   "source": [
    "### RP3Beta Recommender\n",
    "RP3Beta_recommender = RP3betaRecommender(URM_train=URM_stacked)\n",
    "RP3Beta_recommender.fit(topK=181, alpha=0.5709402717259106, beta=0.3566066452521787, implicit=True, normalize_similarity=True)\n",
    "\n",
    "## IALS Recommender\n",
    "IALS_recommender = IALSRecommender(URM_train=URM_stacked)\n",
    "IALS_recommender.fit(epochs=50, num_factors=40, alpha=0.7917156202136513, reg=1.0)\n",
    "\n",
    "##SLIMELASTICNET Recommender\n",
    "SLIME_recommender = MultiThreadSLIM_SLIMElasticNetRecommender(URM_train=URM_stacked)\n",
    "SLIME_recommender.fit(topK=420, l1_ratio=0.06061216785568925, alpha=0.00554982938879437, workers = 10)"
   ]
  },
  {
   "cell_type": "code",
   "execution_count": 14,
   "id": "686117de",
   "metadata": {},
   "outputs": [],
   "source": [
    "hybrid_recommenders = [RP3Beta_recommender, IALS_recommender, SLIME_recommender]\n",
    "\n",
    "##SLIME_RP3BETA_IALS\n",
    "SLIM_RP3_IALS_recommender = MergeThreeModelsByScores(URM_stacked,hybrid_recommenders)\n",
    "SLIM_RP3_IALS_recommender.fit(alpha=0.0, beta=0.3023745211799622, gamma=1.0)\n",
    "\n"
   ]
  },
  {
   "cell_type": "code",
   "execution_count": 15,
   "id": "a9078d5d",
   "metadata": {},
   "outputs": [],
   "source": [
    "submission_cold =[]\n",
    "for user in cold_users_group:\n",
    "    submission_cold.append((user,RP3Beta_recommender.recommend(user,10)))"
   ]
  },
  {
   "cell_type": "code",
   "execution_count": null,
   "id": "81ef0ebf",
   "metadata": {},
   "outputs": [
    {
     "name": "stderr",
     "output_type": "stream",
     "text": [
      "100%|████████████████████████████████████▉| 18056/18059 [11:24<00:00, 26.37it/s]\n"
     ]
    }
   ],
   "source": [
    "submission_warm =[]\n",
    "for user in warm_users_group:\n",
    "    submission_warm.append((user,SLIM_RP3_IALS_recommender.recommend(user,10)))"
   ]
  },
  {
   "cell_type": "code",
   "execution_count": null,
   "id": "f56aa307",
   "metadata": {},
   "outputs": [],
   "source": [
    "len(submission_cold)"
   ]
  },
  {
   "cell_type": "code",
   "execution_count": null,
   "id": "b73927cd",
   "metadata": {},
   "outputs": [],
   "source": [
    "len(submission_warm)"
   ]
  },
  {
   "cell_type": "code",
   "execution_count": null,
   "id": "6fd2a2af",
   "metadata": {},
   "outputs": [],
   "source": [
    "submission = submission_cold + submission_warm"
   ]
  },
  {
   "cell_type": "code",
   "execution_count": null,
   "id": "8d490d3c",
   "metadata": {},
   "outputs": [],
   "source": [
    "len(submission)"
   ]
  },
  {
   "cell_type": "code",
   "execution_count": null,
   "id": "feeeb8df",
   "metadata": {},
   "outputs": [],
   "source": [
    "print(submission[10])"
   ]
  },
  {
   "cell_type": "code",
   "execution_count": null,
   "id": "4f68f42a",
   "metadata": {},
   "outputs": [],
   "source": [
    "submission.sort()"
   ]
  },
  {
   "cell_type": "code",
   "execution_count": null,
   "id": "fc42a96e",
   "metadata": {},
   "outputs": [],
   "source": [
    "print(submission[0])"
   ]
  },
  {
   "cell_type": "code",
   "execution_count": null,
   "id": "2bcf8d15",
   "metadata": {},
   "outputs": [],
   "source": [
    "for i in range(0,13650):\n",
    "    print(submission[i])"
   ]
  },
  {
   "cell_type": "code",
   "execution_count": null,
   "id": "e79a6fff",
   "metadata": {},
   "outputs": [],
   "source": [
    "from Utils.utils import write_submission\n",
    "\n",
    "write_submission(submission, name=\"coldRP3BETA_warmHybrid\")"
   ]
  },
  {
   "cell_type": "code",
   "execution_count": null,
   "id": "810ab41f",
   "metadata": {},
   "outputs": [],
   "source": []
  }
 ],
 "metadata": {
  "kernelspec": {
   "display_name": "Python 3 (ipykernel)",
   "language": "python",
   "name": "python3"
  },
  "language_info": {
   "codemirror_mode": {
    "name": "ipython",
    "version": 3
   },
   "file_extension": ".py",
   "mimetype": "text/x-python",
   "name": "python",
   "nbconvert_exporter": "python",
   "pygments_lexer": "ipython3",
   "version": "3.8.12"
  }
 },
 "nbformat": 4,
 "nbformat_minor": 5
}
