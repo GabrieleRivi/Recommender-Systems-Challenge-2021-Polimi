{
 "cells": [
  {
   "cell_type": "code",
   "execution_count": 1,
   "id": "36aad66f",
   "metadata": {},
   "outputs": [],
   "source": [
    "import os\n",
    "\n",
    "os.chdir('/Users/gabriele/PycharmProjects/RecSys')"
   ]
  },
  {
   "cell_type": "code",
   "execution_count": 2,
   "id": "3e2c5fc6",
   "metadata": {},
   "outputs": [],
   "source": [
    "from src.HyperparameterTuning.SearchAbstractClass import SearchInputRecommenderArgs\n",
    "from src.Recommenders.EASE_R.EASE_R_Recommender import EASE_R_Recommender\n",
    "from Utils.utils import create_URM,create_ICM,combine_matrices\n",
    "from src.Evaluation.Evaluator import EvaluatorHoldout\n",
    "from src.Data_manager.split_functions.split_train_validation_random_holdout import split_train_in_two_percentage_global_sample\n",
    "from skopt.space import Real, Integer, Categorical"
   ]
  },
  {
   "cell_type": "code",
   "execution_count": 3,
   "id": "845dbc9d",
   "metadata": {},
   "outputs": [
    {
     "name": "stdout",
     "output_type": "stream",
     "text": [
      "Warning: 12 (0.09 %) of 13650 users have no sampled items\n",
      "Warning: 18 (0.13 %) of 13650 users have no sampled items\n",
      "EvaluatorHoldout: Ignoring 13638 ( 0.1%) Users that have less than 1 test interactions\n",
      "EvaluatorHoldout: Ignoring 13632 ( 0.1%) Users that have less than 1 test interactions\n"
     ]
    }
   ],
   "source": [
    "URM = create_URM()\n",
    "ICM = create_ICM()\n",
    "\n",
    "\n",
    "URM_train_validation,URM_test = split_train_in_two_percentage_global_sample(URM,train_percentage=0.85)\n",
    "URM_train, URM_validation = split_train_in_two_percentage_global_sample(URM_train_validation,train_percentage=0.85)\n",
    "\n",
    "combined_matrices = combine_matrices(ICM=ICM, URM=URM_train)\n",
    "\n",
    "evaluator_test = EvaluatorHoldout(URM_test, cutoff_list=[10])\n",
    "evaluator_validation = EvaluatorHoldout(URM_validation, cutoff_list=[10])"
   ]
  },
  {
   "cell_type": "code",
   "execution_count": null,
   "id": "a21df9e5",
   "metadata": {},
   "outputs": [
    {
     "name": "stdout",
     "output_type": "stream",
     "text": [
      "Iteration No: 1 started. Evaluating function at random point.\n",
      "SearchBayesianSkopt: Testing config: {'topK': 314, 'l2_norm': 0.003558484214357064}\n",
      "EASE_R_Recommender: Fitting model... \n",
      "Unable to load Cython Compute_Similarity, reverting to Python\n",
      "Similarity column 18059 (100.0%), 374.76 column/sec. Elapsed time 48.19 sec\n",
      "EASE_R_Recommender: Fitting model... done in 12.89 min\n",
      "EvaluatorHoldout: Processed 13632 (100.0%) in 31.72 sec. Users per second: 430\n",
      "SearchBayesianSkopt: New best config found. Config 0: {'topK': 314, 'l2_norm': 0.003558484214357064} - results: PRECISION: 0.0517532, PRECISION_RECALL_MIN_DEN: 0.0519520, RECALL: 0.0110433, MAP: 0.0192212, MAP_MIN_DEN: 0.0192897, MRR: 0.1416061, NDCG: 0.0541544, F1: 0.0182025, HIT_RATE: 0.3865904, ARHR_ALL_HITS: 0.1645208, NOVELTY: 0.0059937, AVERAGE_POPULARITY: 0.3529397, DIVERSITY_MEAN_INTER_LIST: 0.9812953, DIVERSITY_HERFINDAHL: 0.9981223, COVERAGE_ITEM: 0.1672296, COVERAGE_ITEM_CORRECT: 0.0431918, COVERAGE_USER: 0.9986813, COVERAGE_USER_CORRECT: 0.3860806, DIVERSITY_GINI: 0.0358428, SHANNON_ENTROPY: 9.7287176, RATIO_DIVERSITY_HERFINDAHL: 0.9984976, RATIO_DIVERSITY_GINI: 0.1383526, RATIO_SHANNON_ENTROPY: 0.7818676, RATIO_AVERAGE_POPULARITY: 1.7645765, RATIO_NOVELTY: 0.0313563, \n",
      "\n",
      "EvaluatorHoldout: Processed 13638 (100.0%) in 33.58 sec. Users per second: 406\n",
      "SearchBayesianSkopt: Config evaluated with evaluator_test. Config: {'topK': 314, 'l2_norm': 0.003558484214357064} - results:\n",
      "CUTOFF: 10 - PRECISION: 0.0614900, PRECISION_RECALL_MIN_DEN: 0.0616726, RECALL: 0.0111287, MAP: 0.0237141, MAP_MIN_DEN: 0.0238218, MRR: 0.1662556, NDCG: 0.0647673, F1: 0.0188465, HIT_RATE: 0.4343745, ARHR_ALL_HITS: 0.1980452, NOVELTY: 0.0059935, AVERAGE_POPULARITY: 0.3529893, DIVERSITY_MEAN_INTER_LIST: 0.9812899, DIVERSITY_HERFINDAHL: 0.9981218, COVERAGE_ITEM: 0.1672296, COVERAGE_ITEM_CORRECT: 0.0475109, COVERAGE_USER: 0.9991209, COVERAGE_USER_CORRECT: 0.4339927, DIVERSITY_GINI: 0.0358317, SHANNON_ENTROPY: 9.7282783, RATIO_DIVERSITY_HERFINDAHL: 0.9984970, RATIO_DIVERSITY_GINI: 0.1383098, RATIO_SHANNON_ENTROPY: 0.7818323, RATIO_AVERAGE_POPULARITY: 1.7648246, RATIO_NOVELTY: 0.0313553, \n",
      "\n",
      "\n",
      "SearchBayesianSkopt: Saving model in logs/EASE_R_Recommender\n",
      "\n",
      "EASE_R_Recommender: Saving model in file 'logs/EASE_R_Recommender_best_model'\n",
      "EASE_R_Recommender: Saving complete\n",
      "Iteration No: 1 ended. Evaluation done at random point.\n",
      "Time taken: 871.6630\n",
      "Function value obtained: -0.0192\n",
      "Current minimum: -0.0192\n",
      "Iteration No: 2 started. Evaluating function at random point.\n",
      "SearchBayesianSkopt: Testing config: {'topK': 102, 'l2_norm': 0.009371617746678388}\n",
      "EASE_R_Recommender: Fitting model... \n",
      "Unable to load Cython Compute_Similarity, reverting to Python\n",
      "Similarity column 18059 (100.0%), 163.95 column/sec. Elapsed time 1.84 min\n",
      "EASE_R_Recommender: Fitting model... done in 10.93 min\n"
     ]
    }
   ],
   "source": [
    "from src.HyperparameterTuning.SearchBayesianSkopt import SearchBayesianSkopt\n",
    "\n",
    "hyperparameters_range_dictionary = {\n",
    "    \"topK\":Integer(10,600),\n",
    "    \"l2_norm\":Real(0.00001,0.01)\n",
    "}\n",
    "\n",
    "recommender_input_args = SearchInputRecommenderArgs(\n",
    "    CONSTRUCTOR_POSITIONAL_ARGS = [combined_matrices],\n",
    "    CONSTRUCTOR_KEYWORD_ARGS = {},\n",
    "    FIT_POSITIONAL_ARGS = [],\n",
    "    FIT_KEYWORD_ARGS = {}\n",
    ")\n",
    "recommender_input_args_last_test = SearchInputRecommenderArgs(\n",
    "    CONSTRUCTOR_POSITIONAL_ARGS = [URM_train_validation],\n",
    "    CONSTRUCTOR_KEYWORD_ARGS = {},\n",
    "    FIT_POSITIONAL_ARGS = [],\n",
    "    FIT_KEYWORD_ARGS = {}\n",
    ")\n",
    "\n",
    "tuning_class = SearchBayesianSkopt(recommender_class=EASE_R_Recommender,\n",
    "                                   evaluator_validation=evaluator_validation,\n",
    "                                   evaluator_test=evaluator_test)\n",
    "\n",
    "n_cases = 100\n",
    "n_random_starts = n_cases*0.3\n",
    "output_folder_path = \"logs/\"\n",
    "\n",
    "tuning_class.search(recommender_input_args=recommender_input_args,\n",
    "                    recommender_input_args_last_test=recommender_input_args_last_test,\n",
    "                    hyperparameter_search_space=hyperparameters_range_dictionary,\n",
    "                    metric_to_optimize=\"MAP\",\n",
    "                    cutoff_to_optimize= 10,\n",
    "                    n_cases= n_cases,\n",
    "                    n_random_starts=n_random_starts,\n",
    "                    output_folder_path=output_folder_path,\n",
    "                    output_file_name_root=EASE_R_Recommender.RECOMMENDER_NAME,\n",
    "                    save_model=\"best\"\n",
    "                    )"
   ]
  },
  {
   "cell_type": "code",
   "execution_count": null,
   "id": "9d3318bd",
   "metadata": {},
   "outputs": [],
   "source": []
  }
 ],
 "metadata": {
  "kernelspec": {
   "display_name": "Python 3 (ipykernel)",
   "language": "python",
   "name": "python3"
  },
  "language_info": {
   "codemirror_mode": {
    "name": "ipython",
    "version": 3
   },
   "file_extension": ".py",
   "mimetype": "text/x-python",
   "name": "python",
   "nbconvert_exporter": "python",
   "pygments_lexer": "ipython3",
   "version": "3.8.12"
  }
 },
 "nbformat": 4,
 "nbformat_minor": 5
}
