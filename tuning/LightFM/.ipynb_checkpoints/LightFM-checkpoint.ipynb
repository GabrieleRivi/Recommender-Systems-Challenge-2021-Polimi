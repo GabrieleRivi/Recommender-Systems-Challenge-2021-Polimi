{
 "cells": [
  {
   "cell_type": "code",
   "execution_count": 1,
   "id": "f58a26d5",
   "metadata": {},
   "outputs": [],
   "source": [
    "import os\n",
    "\n",
    "os.chdir('/Users/gabriele/PycharmProjects/RecSys')"
   ]
  },
  {
   "cell_type": "code",
   "execution_count": 2,
   "id": "9ccbd859",
   "metadata": {},
   "outputs": [],
   "source": [
    "from Utils.utils import create_URM, create_ICM, combine_matrices, write_submission, create_submission\n",
    "from src.Evaluation.Evaluator import EvaluatorHoldout\n",
    "from src.Data_manager.split_functions.split_train_validation_random_holdout import split_train_in_two_percentage_global_sample"
   ]
  },
  {
   "cell_type": "code",
   "execution_count": null,
   "id": "da483433",
   "metadata": {},
   "outputs": [],
   "source": [
    "URM_train, URM_test = split_train_in_two_percentage_global_sample(URM, train_percentage=0.85)"
   ]
  }
 ],
 "metadata": {
  "kernelspec": {
   "display_name": "Python 3 (ipykernel)",
   "language": "python",
   "name": "python3"
  },
  "language_info": {
   "codemirror_mode": {
    "name": "ipython",
    "version": 3
   },
   "file_extension": ".py",
   "mimetype": "text/x-python",
   "name": "python",
   "nbconvert_exporter": "python",
   "pygments_lexer": "ipython3",
   "version": "3.8.12"
  }
 },
 "nbformat": 4,
 "nbformat_minor": 5
}
